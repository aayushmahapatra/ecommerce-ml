{
 "cells": [
  {
   "cell_type": "code",
   "execution_count": 1,
   "id": "b7619c35",
   "metadata": {
    "execution": {
     "iopub.execute_input": "2023-04-07T06:48:35.191479Z",
     "iopub.status.busy": "2023-04-07T06:48:35.190852Z",
     "iopub.status.idle": "2023-04-07T06:48:35.206419Z",
     "shell.execute_reply": "2023-04-07T06:48:35.205521Z"
    },
    "papermill": {
     "duration": 0.028037,
     "end_time": "2023-04-07T06:48:35.208840",
     "exception": false,
     "start_time": "2023-04-07T06:48:35.180803",
     "status": "completed"
    },
    "tags": []
   },
   "outputs": [
    {
     "name": "stdout",
     "output_type": "stream",
     "text": [
      "/kaggle/input/e-commerce-shoppers-behaviour-understanding/test_data_v2.csv\n",
      "/kaggle/input/e-commerce-shoppers-behaviour-understanding/train_data_v2.csv\n",
      "/kaggle/input/e-commerce-shoppers-behaviour-understanding/sample.csv\n"
     ]
    }
   ],
   "source": [
    "# This Python 3 environment comes with many helpful analytics libraries installed\n",
    "# It is defined by the kaggle/python Docker image: https://github.com/kaggle/docker-python\n",
    "# For example, here's several helpful packages to load\n",
    "\n",
    "import numpy as np # linear algebra\n",
    "import pandas as pd # data processing, CSV file I/O (e.g. pd.read_csv)\n",
    "\n",
    "# Input data files are available in the read-only \"../input/\" directory\n",
    "# For example, running this (by clicking run or pressing Shift+Enter) will list all files under the input directory\n",
    "\n",
    "import os\n",
    "for dirname, _, filenames in os.walk('/kaggle/input'):\n",
    "    for filename in filenames:\n",
    "        print(os.path.join(dirname, filename))\n",
    "\n",
    "# You can write up to 20GB to the current directory (/kaggle/working/) that gets preserved as output when you create a version using \"Save & Run All\" \n",
    "# You can also write temporary files to /kaggle/temp/, but they won't be saved outside of the current session"
   ]
  },
  {
   "cell_type": "code",
   "execution_count": 2,
   "id": "f5ee9179",
   "metadata": {
    "execution": {
     "iopub.execute_input": "2023-04-07T06:48:35.223471Z",
     "iopub.status.busy": "2023-04-07T06:48:35.222771Z",
     "iopub.status.idle": "2023-04-07T06:48:35.367120Z",
     "shell.execute_reply": "2023-04-07T06:48:35.365836Z"
    },
    "papermill": {
     "duration": 0.15458,
     "end_time": "2023-04-07T06:48:35.369784",
     "exception": false,
     "start_time": "2023-04-07T06:48:35.215204",
     "status": "completed"
    },
    "tags": []
   },
   "outputs": [
    {
     "data": {
      "text/html": [
       "<div>\n",
       "<style scoped>\n",
       "    .dataframe tbody tr th:only-of-type {\n",
       "        vertical-align: middle;\n",
       "    }\n",
       "\n",
       "    .dataframe tbody tr th {\n",
       "        vertical-align: top;\n",
       "    }\n",
       "\n",
       "    .dataframe thead th {\n",
       "        text-align: right;\n",
       "    }\n",
       "</style>\n",
       "<table border=\"1\" class=\"dataframe\">\n",
       "  <thead>\n",
       "    <tr style=\"text-align: right;\">\n",
       "      <th></th>\n",
       "      <th>HomePage</th>\n",
       "      <th>HomePage_Duration</th>\n",
       "      <th>LandingPage</th>\n",
       "      <th>LandingPage_Duration</th>\n",
       "      <th>ProductDescriptionPage</th>\n",
       "      <th>ProductDescriptionPage_Duration</th>\n",
       "      <th>GoogleMetric:Bounce Rates</th>\n",
       "      <th>GoogleMetric:Exit Rates</th>\n",
       "      <th>GoogleMetric:Page Values</th>\n",
       "      <th>SeasonalPurchase</th>\n",
       "      <th>...</th>\n",
       "      <th>SearchEngine</th>\n",
       "      <th>Zone</th>\n",
       "      <th>Type of Traffic</th>\n",
       "      <th>CustomerType</th>\n",
       "      <th>Gender</th>\n",
       "      <th>Cookies Setting</th>\n",
       "      <th>Education</th>\n",
       "      <th>Marital Status</th>\n",
       "      <th>WeekendPurchase</th>\n",
       "      <th>Made_Purchase</th>\n",
       "    </tr>\n",
       "  </thead>\n",
       "  <tbody>\n",
       "    <tr>\n",
       "      <th>0</th>\n",
       "      <td>0.0</td>\n",
       "      <td>0.000000</td>\n",
       "      <td>0.0</td>\n",
       "      <td>0.0</td>\n",
       "      <td>1.0</td>\n",
       "      <td>0.000000</td>\n",
       "      <td>0.200000</td>\n",
       "      <td>0.200000</td>\n",
       "      <td>0.0</td>\n",
       "      <td>0.0</td>\n",
       "      <td>...</td>\n",
       "      <td>1.0</td>\n",
       "      <td>9.0</td>\n",
       "      <td>3.0</td>\n",
       "      <td>Returning_Visitor</td>\n",
       "      <td>Not Specified</td>\n",
       "      <td>Deny</td>\n",
       "      <td>Not Specified</td>\n",
       "      <td>Other</td>\n",
       "      <td>0.0</td>\n",
       "      <td>False</td>\n",
       "    </tr>\n",
       "    <tr>\n",
       "      <th>1</th>\n",
       "      <td>0.0</td>\n",
       "      <td>0.000000</td>\n",
       "      <td>0.0</td>\n",
       "      <td>0.0</td>\n",
       "      <td>2.0</td>\n",
       "      <td>2.666667</td>\n",
       "      <td>0.050000</td>\n",
       "      <td>0.140000</td>\n",
       "      <td>0.0</td>\n",
       "      <td>0.0</td>\n",
       "      <td>...</td>\n",
       "      <td>2.0</td>\n",
       "      <td>2.0</td>\n",
       "      <td>4.0</td>\n",
       "      <td>Returning_Visitor</td>\n",
       "      <td>Female</td>\n",
       "      <td>Deny</td>\n",
       "      <td>Others</td>\n",
       "      <td>Married</td>\n",
       "      <td>0.0</td>\n",
       "      <td>False</td>\n",
       "    </tr>\n",
       "    <tr>\n",
       "      <th>2</th>\n",
       "      <td>0.0</td>\n",
       "      <td>0.000000</td>\n",
       "      <td>0.0</td>\n",
       "      <td>0.0</td>\n",
       "      <td>10.0</td>\n",
       "      <td>627.500000</td>\n",
       "      <td>0.020000</td>\n",
       "      <td>0.050000</td>\n",
       "      <td>0.0</td>\n",
       "      <td>0.0</td>\n",
       "      <td>...</td>\n",
       "      <td>3.0</td>\n",
       "      <td>1.0</td>\n",
       "      <td>4.0</td>\n",
       "      <td>Returning_Visitor</td>\n",
       "      <td>Female</td>\n",
       "      <td>ALL</td>\n",
       "      <td>Others</td>\n",
       "      <td>Married</td>\n",
       "      <td>1.0</td>\n",
       "      <td>False</td>\n",
       "    </tr>\n",
       "    <tr>\n",
       "      <th>3</th>\n",
       "      <td>0.0</td>\n",
       "      <td>0.000000</td>\n",
       "      <td>0.0</td>\n",
       "      <td>0.0</td>\n",
       "      <td>1.0</td>\n",
       "      <td>0.000000</td>\n",
       "      <td>0.200000</td>\n",
       "      <td>0.200000</td>\n",
       "      <td>0.0</td>\n",
       "      <td>0.4</td>\n",
       "      <td>...</td>\n",
       "      <td>4.0</td>\n",
       "      <td>3.0</td>\n",
       "      <td>3.0</td>\n",
       "      <td>Returning_Visitor</td>\n",
       "      <td>Male</td>\n",
       "      <td>ALL</td>\n",
       "      <td>Diploma</td>\n",
       "      <td>Single</td>\n",
       "      <td>0.0</td>\n",
       "      <td>False</td>\n",
       "    </tr>\n",
       "    <tr>\n",
       "      <th>4</th>\n",
       "      <td>1.0</td>\n",
       "      <td>0.000000</td>\n",
       "      <td>0.0</td>\n",
       "      <td>0.0</td>\n",
       "      <td>0.0</td>\n",
       "      <td>0.000000</td>\n",
       "      <td>0.200000</td>\n",
       "      <td>0.200000</td>\n",
       "      <td>0.0</td>\n",
       "      <td>0.0</td>\n",
       "      <td>...</td>\n",
       "      <td>2.0</td>\n",
       "      <td>1.0</td>\n",
       "      <td>5.0</td>\n",
       "      <td>Returning_Visitor</td>\n",
       "      <td>Male</td>\n",
       "      <td>Deny</td>\n",
       "      <td>Diploma</td>\n",
       "      <td>Other</td>\n",
       "      <td>1.0</td>\n",
       "      <td>False</td>\n",
       "    </tr>\n",
       "    <tr>\n",
       "      <th>...</th>\n",
       "      <td>...</td>\n",
       "      <td>...</td>\n",
       "      <td>...</td>\n",
       "      <td>...</td>\n",
       "      <td>...</td>\n",
       "      <td>...</td>\n",
       "      <td>...</td>\n",
       "      <td>...</td>\n",
       "      <td>...</td>\n",
       "      <td>...</td>\n",
       "      <td>...</td>\n",
       "      <td>...</td>\n",
       "      <td>...</td>\n",
       "      <td>...</td>\n",
       "      <td>...</td>\n",
       "      <td>...</td>\n",
       "      <td>...</td>\n",
       "      <td>...</td>\n",
       "      <td>...</td>\n",
       "      <td>...</td>\n",
       "      <td>...</td>\n",
       "    </tr>\n",
       "    <tr>\n",
       "      <th>14726</th>\n",
       "      <td>1.0</td>\n",
       "      <td>4.000000</td>\n",
       "      <td>0.0</td>\n",
       "      <td>0.0</td>\n",
       "      <td>39.0</td>\n",
       "      <td>983.138889</td>\n",
       "      <td>0.015385</td>\n",
       "      <td>0.017599</td>\n",
       "      <td>0.0</td>\n",
       "      <td>0.0</td>\n",
       "      <td>...</td>\n",
       "      <td>2.0</td>\n",
       "      <td>6.0</td>\n",
       "      <td>3.0</td>\n",
       "      <td>Returning_Visitor</td>\n",
       "      <td>Female</td>\n",
       "      <td>Deny</td>\n",
       "      <td>NaN</td>\n",
       "      <td>Married</td>\n",
       "      <td>0.0</td>\n",
       "      <td>True</td>\n",
       "    </tr>\n",
       "    <tr>\n",
       "      <th>14727</th>\n",
       "      <td>8.0</td>\n",
       "      <td>117.023809</td>\n",
       "      <td>2.0</td>\n",
       "      <td>57.0</td>\n",
       "      <td>11.0</td>\n",
       "      <td>252.892857</td>\n",
       "      <td>0.000000</td>\n",
       "      <td>0.011078</td>\n",
       "      <td>0.0</td>\n",
       "      <td>0.0</td>\n",
       "      <td>...</td>\n",
       "      <td>2.0</td>\n",
       "      <td>2.0</td>\n",
       "      <td>4.0</td>\n",
       "      <td>Returning_Visitor</td>\n",
       "      <td>Not Specified</td>\n",
       "      <td>ALL</td>\n",
       "      <td>Diploma</td>\n",
       "      <td>Married</td>\n",
       "      <td>0.0</td>\n",
       "      <td>True</td>\n",
       "    </tr>\n",
       "    <tr>\n",
       "      <th>14728</th>\n",
       "      <td>2.0</td>\n",
       "      <td>75.600000</td>\n",
       "      <td>2.0</td>\n",
       "      <td>652.8</td>\n",
       "      <td>10.0</td>\n",
       "      <td>1143.666667</td>\n",
       "      <td>0.000000</td>\n",
       "      <td>0.023333</td>\n",
       "      <td>0.0</td>\n",
       "      <td>0.0</td>\n",
       "      <td>...</td>\n",
       "      <td>2.0</td>\n",
       "      <td>4.0</td>\n",
       "      <td>2.0</td>\n",
       "      <td>Returning_Visitor</td>\n",
       "      <td>Not Specified</td>\n",
       "      <td>Required</td>\n",
       "      <td>Others</td>\n",
       "      <td>Single</td>\n",
       "      <td>0.0</td>\n",
       "      <td>True</td>\n",
       "    </tr>\n",
       "    <tr>\n",
       "      <th>14729</th>\n",
       "      <td>0.0</td>\n",
       "      <td>0.000000</td>\n",
       "      <td>0.0</td>\n",
       "      <td>0.0</td>\n",
       "      <td>6.0</td>\n",
       "      <td>1057.000000</td>\n",
       "      <td>0.000000</td>\n",
       "      <td>0.033333</td>\n",
       "      <td>0.0</td>\n",
       "      <td>0.0</td>\n",
       "      <td>...</td>\n",
       "      <td>4.0</td>\n",
       "      <td>4.0</td>\n",
       "      <td>1.0</td>\n",
       "      <td>Returning_Visitor</td>\n",
       "      <td>Not Specified</td>\n",
       "      <td>Required</td>\n",
       "      <td>Not Specified</td>\n",
       "      <td>Married</td>\n",
       "      <td>0.0</td>\n",
       "      <td>True</td>\n",
       "    </tr>\n",
       "    <tr>\n",
       "      <th>14730</th>\n",
       "      <td>0.0</td>\n",
       "      <td>0.000000</td>\n",
       "      <td>0.0</td>\n",
       "      <td>0.0</td>\n",
       "      <td>21.0</td>\n",
       "      <td>1372.700000</td>\n",
       "      <td>0.019048</td>\n",
       "      <td>0.035714</td>\n",
       "      <td>0.0</td>\n",
       "      <td>0.0</td>\n",
       "      <td>...</td>\n",
       "      <td>1.0</td>\n",
       "      <td>3.0</td>\n",
       "      <td>1.0</td>\n",
       "      <td>Returning_Visitor</td>\n",
       "      <td>Female</td>\n",
       "      <td>ALL</td>\n",
       "      <td>Diploma</td>\n",
       "      <td>Other</td>\n",
       "      <td>0.0</td>\n",
       "      <td>True</td>\n",
       "    </tr>\n",
       "  </tbody>\n",
       "</table>\n",
       "<p>14731 rows × 22 columns</p>\n",
       "</div>"
      ],
      "text/plain": [
       "       HomePage  HomePage_Duration  LandingPage  LandingPage_Duration  \\\n",
       "0           0.0           0.000000          0.0                   0.0   \n",
       "1           0.0           0.000000          0.0                   0.0   \n",
       "2           0.0           0.000000          0.0                   0.0   \n",
       "3           0.0           0.000000          0.0                   0.0   \n",
       "4           1.0           0.000000          0.0                   0.0   \n",
       "...         ...                ...          ...                   ...   \n",
       "14726       1.0           4.000000          0.0                   0.0   \n",
       "14727       8.0         117.023809          2.0                  57.0   \n",
       "14728       2.0          75.600000          2.0                 652.8   \n",
       "14729       0.0           0.000000          0.0                   0.0   \n",
       "14730       0.0           0.000000          0.0                   0.0   \n",
       "\n",
       "       ProductDescriptionPage  ProductDescriptionPage_Duration  \\\n",
       "0                         1.0                         0.000000   \n",
       "1                         2.0                         2.666667   \n",
       "2                        10.0                       627.500000   \n",
       "3                         1.0                         0.000000   \n",
       "4                         0.0                         0.000000   \n",
       "...                       ...                              ...   \n",
       "14726                    39.0                       983.138889   \n",
       "14727                    11.0                       252.892857   \n",
       "14728                    10.0                      1143.666667   \n",
       "14729                     6.0                      1057.000000   \n",
       "14730                    21.0                      1372.700000   \n",
       "\n",
       "       GoogleMetric:Bounce Rates  GoogleMetric:Exit Rates  \\\n",
       "0                       0.200000                 0.200000   \n",
       "1                       0.050000                 0.140000   \n",
       "2                       0.020000                 0.050000   \n",
       "3                       0.200000                 0.200000   \n",
       "4                       0.200000                 0.200000   \n",
       "...                          ...                      ...   \n",
       "14726                   0.015385                 0.017599   \n",
       "14727                   0.000000                 0.011078   \n",
       "14728                   0.000000                 0.023333   \n",
       "14729                   0.000000                 0.033333   \n",
       "14730                   0.019048                 0.035714   \n",
       "\n",
       "       GoogleMetric:Page Values  SeasonalPurchase  ... SearchEngine  Zone  \\\n",
       "0                           0.0               0.0  ...          1.0   9.0   \n",
       "1                           0.0               0.0  ...          2.0   2.0   \n",
       "2                           0.0               0.0  ...          3.0   1.0   \n",
       "3                           0.0               0.4  ...          4.0   3.0   \n",
       "4                           0.0               0.0  ...          2.0   1.0   \n",
       "...                         ...               ...  ...          ...   ...   \n",
       "14726                       0.0               0.0  ...          2.0   6.0   \n",
       "14727                       0.0               0.0  ...          2.0   2.0   \n",
       "14728                       0.0               0.0  ...          2.0   4.0   \n",
       "14729                       0.0               0.0  ...          4.0   4.0   \n",
       "14730                       0.0               0.0  ...          1.0   3.0   \n",
       "\n",
       "       Type of Traffic       CustomerType         Gender Cookies Setting  \\\n",
       "0                  3.0  Returning_Visitor  Not Specified            Deny   \n",
       "1                  4.0  Returning_Visitor         Female            Deny   \n",
       "2                  4.0  Returning_Visitor         Female             ALL   \n",
       "3                  3.0  Returning_Visitor           Male             ALL   \n",
       "4                  5.0  Returning_Visitor           Male            Deny   \n",
       "...                ...                ...            ...             ...   \n",
       "14726              3.0  Returning_Visitor         Female            Deny   \n",
       "14727              4.0  Returning_Visitor  Not Specified             ALL   \n",
       "14728              2.0  Returning_Visitor  Not Specified        Required   \n",
       "14729              1.0  Returning_Visitor  Not Specified        Required   \n",
       "14730              1.0  Returning_Visitor         Female             ALL   \n",
       "\n",
       "           Education Marital Status WeekendPurchase Made_Purchase  \n",
       "0      Not Specified          Other             0.0         False  \n",
       "1             Others        Married             0.0         False  \n",
       "2             Others        Married             1.0         False  \n",
       "3            Diploma         Single             0.0         False  \n",
       "4            Diploma          Other             1.0         False  \n",
       "...              ...            ...             ...           ...  \n",
       "14726            NaN        Married             0.0          True  \n",
       "14727        Diploma        Married             0.0          True  \n",
       "14728         Others         Single             0.0          True  \n",
       "14729  Not Specified        Married             0.0          True  \n",
       "14730        Diploma          Other             0.0          True  \n",
       "\n",
       "[14731 rows x 22 columns]"
      ]
     },
     "execution_count": 2,
     "metadata": {},
     "output_type": "execute_result"
    }
   ],
   "source": [
    "train_df = pd.read_csv('/kaggle/input/e-commerce-shoppers-behaviour-understanding/train_data_v2.csv')\n",
    "train_df"
   ]
  },
  {
   "cell_type": "code",
   "execution_count": 3,
   "id": "693fb905",
   "metadata": {
    "execution": {
     "iopub.execute_input": "2023-04-07T06:48:35.385215Z",
     "iopub.status.busy": "2023-04-07T06:48:35.384827Z",
     "iopub.status.idle": "2023-04-07T06:48:35.447163Z",
     "shell.execute_reply": "2023-04-07T06:48:35.446118Z"
    },
    "papermill": {
     "duration": 0.073135,
     "end_time": "2023-04-07T06:48:35.449796",
     "exception": false,
     "start_time": "2023-04-07T06:48:35.376661",
     "status": "completed"
    },
    "tags": []
   },
   "outputs": [
    {
     "data": {
      "text/html": [
       "<div>\n",
       "<style scoped>\n",
       "    .dataframe tbody tr th:only-of-type {\n",
       "        vertical-align: middle;\n",
       "    }\n",
       "\n",
       "    .dataframe tbody tr th {\n",
       "        vertical-align: top;\n",
       "    }\n",
       "\n",
       "    .dataframe thead th {\n",
       "        text-align: right;\n",
       "    }\n",
       "</style>\n",
       "<table border=\"1\" class=\"dataframe\">\n",
       "  <thead>\n",
       "    <tr style=\"text-align: right;\">\n",
       "      <th></th>\n",
       "      <th>HomePage</th>\n",
       "      <th>HomePage_Duration</th>\n",
       "      <th>LandingPage</th>\n",
       "      <th>LandingPage_Duration</th>\n",
       "      <th>ProductDescriptionPage</th>\n",
       "      <th>ProductDescriptionPage_Duration</th>\n",
       "      <th>GoogleMetric:Bounce Rates</th>\n",
       "      <th>GoogleMetric:Exit Rates</th>\n",
       "      <th>GoogleMetric:Page Values</th>\n",
       "      <th>SeasonalPurchase</th>\n",
       "      <th>...</th>\n",
       "      <th>OS</th>\n",
       "      <th>SearchEngine</th>\n",
       "      <th>Zone</th>\n",
       "      <th>Type of Traffic</th>\n",
       "      <th>CustomerType</th>\n",
       "      <th>Gender</th>\n",
       "      <th>Cookies Setting</th>\n",
       "      <th>Education</th>\n",
       "      <th>Marital Status</th>\n",
       "      <th>WeekendPurchase</th>\n",
       "    </tr>\n",
       "  </thead>\n",
       "  <tbody>\n",
       "    <tr>\n",
       "      <th>0</th>\n",
       "      <td>0.0</td>\n",
       "      <td>0.0</td>\n",
       "      <td>0.0</td>\n",
       "      <td>0.0</td>\n",
       "      <td>1.0</td>\n",
       "      <td>0.000000</td>\n",
       "      <td>0.200000</td>\n",
       "      <td>0.200000</td>\n",
       "      <td>0.0</td>\n",
       "      <td>0.0</td>\n",
       "      <td>...</td>\n",
       "      <td>1.0</td>\n",
       "      <td>1.0</td>\n",
       "      <td>1.0</td>\n",
       "      <td>1.0</td>\n",
       "      <td>Returning_Visitor</td>\n",
       "      <td>Not Specified</td>\n",
       "      <td>Deny</td>\n",
       "      <td>Not Specified</td>\n",
       "      <td>Single</td>\n",
       "      <td>0.0</td>\n",
       "    </tr>\n",
       "    <tr>\n",
       "      <th>1</th>\n",
       "      <td>0.0</td>\n",
       "      <td>0.0</td>\n",
       "      <td>0.0</td>\n",
       "      <td>0.0</td>\n",
       "      <td>2.0</td>\n",
       "      <td>64.000000</td>\n",
       "      <td>0.000000</td>\n",
       "      <td>0.100000</td>\n",
       "      <td>0.0</td>\n",
       "      <td>0.0</td>\n",
       "      <td>...</td>\n",
       "      <td>2.0</td>\n",
       "      <td>2.0</td>\n",
       "      <td>1.0</td>\n",
       "      <td>2.0</td>\n",
       "      <td>Returning_Visitor</td>\n",
       "      <td>Not Specified</td>\n",
       "      <td>ALL</td>\n",
       "      <td>Graduate</td>\n",
       "      <td>Married</td>\n",
       "      <td>0.0</td>\n",
       "    </tr>\n",
       "    <tr>\n",
       "      <th>2</th>\n",
       "      <td>0.0</td>\n",
       "      <td>0.0</td>\n",
       "      <td>0.0</td>\n",
       "      <td>0.0</td>\n",
       "      <td>19.0</td>\n",
       "      <td>154.216667</td>\n",
       "      <td>0.015789</td>\n",
       "      <td>0.024561</td>\n",
       "      <td>0.0</td>\n",
       "      <td>0.0</td>\n",
       "      <td>...</td>\n",
       "      <td>2.0</td>\n",
       "      <td>2.0</td>\n",
       "      <td>1.0</td>\n",
       "      <td>3.0</td>\n",
       "      <td>Returning_Visitor</td>\n",
       "      <td>Female</td>\n",
       "      <td>Required</td>\n",
       "      <td>Diploma</td>\n",
       "      <td>Other</td>\n",
       "      <td>0.0</td>\n",
       "    </tr>\n",
       "    <tr>\n",
       "      <th>3</th>\n",
       "      <td>0.0</td>\n",
       "      <td>0.0</td>\n",
       "      <td>0.0</td>\n",
       "      <td>0.0</td>\n",
       "      <td>2.0</td>\n",
       "      <td>37.000000</td>\n",
       "      <td>0.000000</td>\n",
       "      <td>0.100000</td>\n",
       "      <td>0.0</td>\n",
       "      <td>0.8</td>\n",
       "      <td>...</td>\n",
       "      <td>2.0</td>\n",
       "      <td>2.0</td>\n",
       "      <td>2.0</td>\n",
       "      <td>3.0</td>\n",
       "      <td>Returning_Visitor</td>\n",
       "      <td>Not Specified</td>\n",
       "      <td>Required</td>\n",
       "      <td>Graduate</td>\n",
       "      <td>Other</td>\n",
       "      <td>0.0</td>\n",
       "    </tr>\n",
       "    <tr>\n",
       "      <th>4</th>\n",
       "      <td>0.0</td>\n",
       "      <td>0.0</td>\n",
       "      <td>0.0</td>\n",
       "      <td>0.0</td>\n",
       "      <td>16.0</td>\n",
       "      <td>407.750000</td>\n",
       "      <td>0.018750</td>\n",
       "      <td>0.025833</td>\n",
       "      <td>0.0</td>\n",
       "      <td>0.4</td>\n",
       "      <td>...</td>\n",
       "      <td>1.0</td>\n",
       "      <td>1.0</td>\n",
       "      <td>4.0</td>\n",
       "      <td>3.0</td>\n",
       "      <td>Returning_Visitor</td>\n",
       "      <td>Female</td>\n",
       "      <td>Deny</td>\n",
       "      <td>Others</td>\n",
       "      <td>Other</td>\n",
       "      <td>0.0</td>\n",
       "    </tr>\n",
       "  </tbody>\n",
       "</table>\n",
       "<p>5 rows × 21 columns</p>\n",
       "</div>"
      ],
      "text/plain": [
       "   HomePage  HomePage_Duration  LandingPage  LandingPage_Duration  \\\n",
       "0       0.0                0.0          0.0                   0.0   \n",
       "1       0.0                0.0          0.0                   0.0   \n",
       "2       0.0                0.0          0.0                   0.0   \n",
       "3       0.0                0.0          0.0                   0.0   \n",
       "4       0.0                0.0          0.0                   0.0   \n",
       "\n",
       "   ProductDescriptionPage  ProductDescriptionPage_Duration  \\\n",
       "0                     1.0                         0.000000   \n",
       "1                     2.0                        64.000000   \n",
       "2                    19.0                       154.216667   \n",
       "3                     2.0                        37.000000   \n",
       "4                    16.0                       407.750000   \n",
       "\n",
       "   GoogleMetric:Bounce Rates  GoogleMetric:Exit Rates  \\\n",
       "0                   0.200000                 0.200000   \n",
       "1                   0.000000                 0.100000   \n",
       "2                   0.015789                 0.024561   \n",
       "3                   0.000000                 0.100000   \n",
       "4                   0.018750                 0.025833   \n",
       "\n",
       "   GoogleMetric:Page Values  SeasonalPurchase  ...   OS  SearchEngine  Zone  \\\n",
       "0                       0.0               0.0  ...  1.0           1.0   1.0   \n",
       "1                       0.0               0.0  ...  2.0           2.0   1.0   \n",
       "2                       0.0               0.0  ...  2.0           2.0   1.0   \n",
       "3                       0.0               0.8  ...  2.0           2.0   2.0   \n",
       "4                       0.0               0.4  ...  1.0           1.0   4.0   \n",
       "\n",
       "   Type of Traffic       CustomerType         Gender Cookies Setting  \\\n",
       "0              1.0  Returning_Visitor  Not Specified            Deny   \n",
       "1              2.0  Returning_Visitor  Not Specified             ALL   \n",
       "2              3.0  Returning_Visitor         Female        Required   \n",
       "3              3.0  Returning_Visitor  Not Specified        Required   \n",
       "4              3.0  Returning_Visitor         Female            Deny   \n",
       "\n",
       "       Education Marital Status WeekendPurchase  \n",
       "0  Not Specified         Single             0.0  \n",
       "1       Graduate        Married             0.0  \n",
       "2        Diploma          Other             0.0  \n",
       "3       Graduate          Other             0.0  \n",
       "4         Others          Other             0.0  \n",
       "\n",
       "[5 rows x 21 columns]"
      ]
     },
     "execution_count": 3,
     "metadata": {},
     "output_type": "execute_result"
    }
   ],
   "source": [
    "test_df = pd.read_csv('/kaggle/input/e-commerce-shoppers-behaviour-understanding/test_data_v2.csv')\n",
    "test_df.head()"
   ]
  },
  {
   "cell_type": "code",
   "execution_count": 4,
   "id": "6af059f4",
   "metadata": {
    "execution": {
     "iopub.execute_input": "2023-04-07T06:48:35.465800Z",
     "iopub.status.busy": "2023-04-07T06:48:35.465432Z",
     "iopub.status.idle": "2023-04-07T06:48:35.470095Z",
     "shell.execute_reply": "2023-04-07T06:48:35.468827Z"
    },
    "papermill": {
     "duration": 0.015235,
     "end_time": "2023-04-07T06:48:35.472198",
     "exception": false,
     "start_time": "2023-04-07T06:48:35.456963",
     "status": "completed"
    },
    "tags": []
   },
   "outputs": [],
   "source": [
    "# Data\n",
    "# Preprocessing / Data Cleaning\n",
    "# Base Model\n",
    "# Model Selection\n",
    "# Best Model\n",
    "# Submit"
   ]
  },
  {
   "cell_type": "code",
   "execution_count": 5,
   "id": "7f16d90d",
   "metadata": {
    "execution": {
     "iopub.execute_input": "2023-04-07T06:48:35.488595Z",
     "iopub.status.busy": "2023-04-07T06:48:35.487573Z",
     "iopub.status.idle": "2023-04-07T06:48:35.519105Z",
     "shell.execute_reply": "2023-04-07T06:48:35.517352Z"
    },
    "papermill": {
     "duration": 0.042238,
     "end_time": "2023-04-07T06:48:35.521663",
     "exception": false,
     "start_time": "2023-04-07T06:48:35.479425",
     "status": "completed"
    },
    "tags": []
   },
   "outputs": [
    {
     "name": "stdout",
     "output_type": "stream",
     "text": [
      "<class 'pandas.core.frame.DataFrame'>\n",
      "RangeIndex: 14731 entries, 0 to 14730\n",
      "Data columns (total 22 columns):\n",
      " #   Column                           Non-Null Count  Dtype  \n",
      "---  ------                           --------------  -----  \n",
      " 0   HomePage                         14578 non-null  float64\n",
      " 1   HomePage_Duration                14581 non-null  float64\n",
      " 2   LandingPage                      14578 non-null  float64\n",
      " 3   LandingPage_Duration             14596 non-null  float64\n",
      " 4   ProductDescriptionPage           14608 non-null  float64\n",
      " 5   ProductDescriptionPage_Duration  14564 non-null  float64\n",
      " 6   GoogleMetric:Bounce Rates        14580 non-null  float64\n",
      " 7   GoogleMetric:Exit Rates          14602 non-null  float64\n",
      " 8   GoogleMetric:Page Values         14599 non-null  float64\n",
      " 9   SeasonalPurchase                 14581 non-null  float64\n",
      " 10  Month_SeasonalPurchase           14587 non-null  object \n",
      " 11  OS                               14597 non-null  float64\n",
      " 12  SearchEngine                     14609 non-null  float64\n",
      " 13  Zone                             14614 non-null  float64\n",
      " 14  Type of Traffic                  14588 non-null  float64\n",
      " 15  CustomerType                     14587 non-null  object \n",
      " 16  Gender                           14586 non-null  object \n",
      " 17  Cookies Setting                  14587 non-null  object \n",
      " 18  Education                        14595 non-null  object \n",
      " 19  Marital Status                   14601 non-null  object \n",
      " 20  WeekendPurchase                  14610 non-null  float64\n",
      " 21  Made_Purchase                    14731 non-null  bool   \n",
      "dtypes: bool(1), float64(15), object(6)\n",
      "memory usage: 2.4+ MB\n"
     ]
    }
   ],
   "source": [
    "train_df.info()"
   ]
  },
  {
   "cell_type": "code",
   "execution_count": 6,
   "id": "105f9da1",
   "metadata": {
    "execution": {
     "iopub.execute_input": "2023-04-07T06:48:35.538079Z",
     "iopub.status.busy": "2023-04-07T06:48:35.537659Z",
     "iopub.status.idle": "2023-04-07T06:48:35.543527Z",
     "shell.execute_reply": "2023-04-07T06:48:35.542218Z"
    },
    "papermill": {
     "duration": 0.016827,
     "end_time": "2023-04-07T06:48:35.545812",
     "exception": false,
     "start_time": "2023-04-07T06:48:35.528985",
     "status": "completed"
    },
    "tags": []
   },
   "outputs": [],
   "source": [
    "num_vars = [\"HomePage\", \"HomePage_Duration\", \"LandingPage\", \"LandingPage_Duration\", \"ProductDescriptionPage\", \"ProductDescriptionPage_Duration\", \"GoogleMetric:Bounce Rates\", \"GoogleMetric:Exit Rates\", \"GoogleMetric:Page Values\", \"SeasonalPurchase\"]\n",
    "cat_vars = [\"Month_SeasonalPurchase\", \"CustomerType\", \"Gender\",\"Cookies Setting\", \"Education\",\"Marital Status\"]"
   ]
  },
  {
   "cell_type": "code",
   "execution_count": 7,
   "id": "d781d626",
   "metadata": {
    "execution": {
     "iopub.execute_input": "2023-04-07T06:48:35.563201Z",
     "iopub.status.busy": "2023-04-07T06:48:35.562798Z",
     "iopub.status.idle": "2023-04-07T06:48:36.863782Z",
     "shell.execute_reply": "2023-04-07T06:48:36.862314Z"
    },
    "papermill": {
     "duration": 1.313164,
     "end_time": "2023-04-07T06:48:36.866667",
     "exception": false,
     "start_time": "2023-04-07T06:48:35.553503",
     "status": "completed"
    },
    "tags": []
   },
   "outputs": [],
   "source": [
    "import matplotlib.pyplot as plt\n",
    "from sklearn.compose import ColumnTransformer\n",
    "from sklearn.pipeline import Pipeline, make_pipeline\n",
    "from sklearn.impute import SimpleImputer\n",
    "from sklearn.preprocessing import OneHotEncoder, FunctionTransformer, PowerTransformer\n",
    "from sklearn.compose import make_column_selector as selector\n",
    "from sklearn.svm import SVC\n",
    "from sklearn.model_selection import KFold, cross_val_score, GridSearchCV, RepeatedStratifiedKFold\n",
    "from sklearn.linear_model import LogisticRegression, SGDClassifier\n",
    "from sklearn.discriminant_analysis import LinearDiscriminantAnalysis\n",
    "from sklearn.neighbors import KNeighborsClassifier\n",
    "from sklearn.tree import DecisionTreeClassifier\n",
    "from sklearn.naive_bayes import GaussianNB\n",
    "from sklearn.feature_selection import RFE"
   ]
  },
  {
   "cell_type": "code",
   "execution_count": 8,
   "id": "d7151761",
   "metadata": {
    "execution": {
     "iopub.execute_input": "2023-04-07T06:48:36.883371Z",
     "iopub.status.busy": "2023-04-07T06:48:36.882908Z",
     "iopub.status.idle": "2023-04-07T06:48:36.891798Z",
     "shell.execute_reply": "2023-04-07T06:48:36.890882Z"
    },
    "papermill": {
     "duration": 0.019698,
     "end_time": "2023-04-07T06:48:36.894073",
     "exception": false,
     "start_time": "2023-04-07T06:48:36.874375",
     "status": "completed"
    },
    "tags": []
   },
   "outputs": [],
   "source": [
    "y_train = train_df['Made_Purchase']\n",
    "X_train = train_df.drop(columns=['Made_Purchase'])"
   ]
  },
  {
   "cell_type": "code",
   "execution_count": 9,
   "id": "7dc73437",
   "metadata": {
    "execution": {
     "iopub.execute_input": "2023-04-07T06:48:36.911055Z",
     "iopub.status.busy": "2023-04-07T06:48:36.910475Z",
     "iopub.status.idle": "2023-04-07T06:48:36.916965Z",
     "shell.execute_reply": "2023-04-07T06:48:36.916118Z"
    },
    "papermill": {
     "duration": 0.01771,
     "end_time": "2023-04-07T06:48:36.919077",
     "exception": false,
     "start_time": "2023-04-07T06:48:36.901367",
     "status": "completed"
    },
    "tags": []
   },
   "outputs": [],
   "source": [
    "numeric_transformer = Pipeline(\n",
    "    steps=[(\"imputer\", SimpleImputer(missing_values=np.nan, strategy=\"mean\")),(\"scaler\", FunctionTransformer(np.log1p))]\n",
    ")\n",
    "\n",
    "categorical_transformer = Pipeline(\n",
    "    steps=[(\"imputer\", SimpleImputer(strategy=\"most_frequent\")), (\"encoder\", OneHotEncoder(handle_unknown=\"ignore\", sparse=False))]\n",
    ")\n",
    "\n",
    "preprocessor = ColumnTransformer(\n",
    "    transformers=[\n",
    "        (\"num\", numeric_transformer, num_vars),\n",
    "        (\"cat\", categorical_transformer, cat_vars),\n",
    "    ]\n",
    ")"
   ]
  },
  {
   "cell_type": "code",
   "execution_count": 10,
   "id": "1ab348a8",
   "metadata": {
    "execution": {
     "iopub.execute_input": "2023-04-07T06:48:36.936292Z",
     "iopub.status.busy": "2023-04-07T06:48:36.935532Z",
     "iopub.status.idle": "2023-04-07T06:48:37.006593Z",
     "shell.execute_reply": "2023-04-07T06:48:37.005292Z"
    },
    "papermill": {
     "duration": 0.082748,
     "end_time": "2023-04-07T06:48:37.009299",
     "exception": false,
     "start_time": "2023-04-07T06:48:36.926551",
     "status": "completed"
    },
    "tags": []
   },
   "outputs": [],
   "source": [
    "X_train = preprocessor.fit_transform(X_train)"
   ]
  },
  {
   "cell_type": "code",
   "execution_count": 11,
   "id": "e320f696",
   "metadata": {
    "execution": {
     "iopub.execute_input": "2023-04-07T06:48:37.025552Z",
     "iopub.status.busy": "2023-04-07T06:48:37.025127Z",
     "iopub.status.idle": "2023-04-07T06:48:37.029744Z",
     "shell.execute_reply": "2023-04-07T06:48:37.028959Z"
    },
    "papermill": {
     "duration": 0.015223,
     "end_time": "2023-04-07T06:48:37.031724",
     "exception": false,
     "start_time": "2023-04-07T06:48:37.016501",
     "status": "completed"
    },
    "tags": []
   },
   "outputs": [],
   "source": [
    "# #evaluation - baselines\n",
    "# num_folds = 10\n",
    "# seed = 7\n",
    "# scoring = 'accuracy'\n",
    "# models = []\n",
    "# models.append(('LR', LogisticRegression(max_iter=1000)))\n",
    "# models.append(('LDA', LinearDiscriminantAnalysis()))\n",
    "# models.append(('KNN', KNeighborsClassifier()))\n",
    "# models.append(('CART', DecisionTreeClassifier()))\n",
    "# models.append(('NB', GaussianNB()))\n",
    "# models.append(('SVC', SVC(gamma=\"auto\")))\n",
    "\n",
    "# results = []\n",
    "# names = []\n",
    "# for name, model in models:\n",
    "#     kfold = KFold(n_splits=num_folds, random_state=seed, shuffle=True)\n",
    "#     cv_results = cross_val_score(model, X_train, y_train, cv=kfold, scoring=scoring)\n",
    "#     results.append(cv_results)\n",
    "#     names.append(name)\n",
    "#     msg = \"%s %f %f \" % (name, cv_results.mean(), cv_results.std())\n",
    "#     print(msg)"
   ]
  },
  {
   "cell_type": "code",
   "execution_count": 12,
   "id": "8bddb41c",
   "metadata": {
    "execution": {
     "iopub.execute_input": "2023-04-07T06:48:37.048095Z",
     "iopub.status.busy": "2023-04-07T06:48:37.047137Z",
     "iopub.status.idle": "2023-04-07T06:48:37.052677Z",
     "shell.execute_reply": "2023-04-07T06:48:37.051594Z"
    },
    "papermill": {
     "duration": 0.016316,
     "end_time": "2023-04-07T06:48:37.055128",
     "exception": false,
     "start_time": "2023-04-07T06:48:37.038812",
     "status": "completed"
    },
    "tags": []
   },
   "outputs": [],
   "source": [
    "# model = SGDClassifier(max_iter=1000, eta0=1)\n",
    "# loss = ['modified_huber', 'squared_hinge']\n",
    "# learning_rate = ['optimal', 'adaptive']\n",
    "# alpha = [0.1]\n",
    "# warm_start = [True]\n",
    "# penalty = ['l2']\n",
    "# # define grid search\n",
    "# grid = dict(loss=loss,learning_rate=learning_rate,alpha=alpha,warm_start=warm_start, penalty=penalty)\n",
    "# cv = RepeatedStratifiedKFold(n_splits=5, n_repeats=3, random_state=1)\n",
    "# grid_search = GridSearchCV(estimator=model, param_grid=grid, n_jobs=-1, cv=cv, scoring='accuracy',error_score=0)\n",
    "# grid_result = grid_search.fit(X_train, y_train)\n",
    "# # summarize results\n",
    "# print(\"Best: %f using %s\" % (grid_result.best_score_, grid_result.best_params_))\n",
    "# means = grid_result.cv_results_['mean_test_score']\n",
    "# stds = grid_result.cv_results_['std_test_score']\n",
    "# params = grid_result.cv_results_['params']\n",
    "# for mean, stdev, param in zip(means, stds, params):\n",
    "#     print(\"%f (%f) with: %r\" % (mean, stdev, param))"
   ]
  },
  {
   "cell_type": "code",
   "execution_count": 13,
   "id": "98ae7e0d",
   "metadata": {
    "execution": {
     "iopub.execute_input": "2023-04-07T06:48:37.071360Z",
     "iopub.status.busy": "2023-04-07T06:48:37.070913Z",
     "iopub.status.idle": "2023-04-07T06:48:37.076545Z",
     "shell.execute_reply": "2023-04-07T06:48:37.075365Z"
    },
    "papermill": {
     "duration": 0.016582,
     "end_time": "2023-04-07T06:48:37.078911",
     "exception": false,
     "start_time": "2023-04-07T06:48:37.062329",
     "status": "completed"
    },
    "tags": []
   },
   "outputs": [],
   "source": [
    "clf = SGDClassifier(loss='modified_huber', learning_rate='adaptive', alpha=0.1, eta0=1, penalty='l2', warm_start=True)\n",
    "# clf = RFE(estimator, n_features_to_select=5, step=1)"
   ]
  },
  {
   "cell_type": "code",
   "execution_count": 14,
   "id": "4219c77d",
   "metadata": {
    "execution": {
     "iopub.execute_input": "2023-04-07T06:48:37.095733Z",
     "iopub.status.busy": "2023-04-07T06:48:37.094987Z",
     "iopub.status.idle": "2023-04-07T06:48:37.366283Z",
     "shell.execute_reply": "2023-04-07T06:48:37.365106Z"
    },
    "papermill": {
     "duration": 0.282449,
     "end_time": "2023-04-07T06:48:37.368842",
     "exception": false,
     "start_time": "2023-04-07T06:48:37.086393",
     "status": "completed"
    },
    "tags": []
   },
   "outputs": [
    {
     "data": {
      "text/plain": [
       "SGDClassifier(alpha=0.1, eta0=1, learning_rate='adaptive',\n",
       "              loss='modified_huber', warm_start=True)"
      ]
     },
     "execution_count": 14,
     "metadata": {},
     "output_type": "execute_result"
    }
   ],
   "source": [
    "clf.fit(X_train, y_train)"
   ]
  },
  {
   "cell_type": "code",
   "execution_count": 15,
   "id": "06d9d88b",
   "metadata": {
    "execution": {
     "iopub.execute_input": "2023-04-07T06:48:37.385254Z",
     "iopub.status.busy": "2023-04-07T06:48:37.384702Z",
     "iopub.status.idle": "2023-04-07T06:48:37.406500Z",
     "shell.execute_reply": "2023-04-07T06:48:37.404940Z"
    },
    "papermill": {
     "duration": 0.035201,
     "end_time": "2023-04-07T06:48:37.411369",
     "exception": false,
     "start_time": "2023-04-07T06:48:37.376168",
     "status": "completed"
    },
    "tags": []
   },
   "outputs": [
    {
     "data": {
      "text/plain": [
       "0.6664177584685358"
      ]
     },
     "execution_count": 15,
     "metadata": {},
     "output_type": "execute_result"
    }
   ],
   "source": [
    "clf.score(X_train, y_train)"
   ]
  },
  {
   "cell_type": "code",
   "execution_count": 16,
   "id": "3d540e41",
   "metadata": {
    "execution": {
     "iopub.execute_input": "2023-04-07T06:48:37.451717Z",
     "iopub.status.busy": "2023-04-07T06:48:37.451051Z",
     "iopub.status.idle": "2023-04-07T06:48:38.761105Z",
     "shell.execute_reply": "2023-04-07T06:48:38.759335Z"
    },
    "papermill": {
     "duration": 1.334934,
     "end_time": "2023-04-07T06:48:38.765589",
     "exception": false,
     "start_time": "2023-04-07T06:48:37.430655",
     "status": "completed"
    },
    "tags": []
   },
   "outputs": [
    {
     "data": {
      "text/plain": [
       "0.5548957124635245"
      ]
     },
     "execution_count": 16,
     "metadata": {},
     "output_type": "execute_result"
    }
   ],
   "source": [
    "from sklearn.model_selection import cross_val_score\n",
    "\n",
    "cvs = cross_val_score(clf, X_train, y_train)\n",
    "cvs.mean()"
   ]
  },
  {
   "cell_type": "code",
   "execution_count": 17,
   "id": "f1dfc669",
   "metadata": {
    "execution": {
     "iopub.execute_input": "2023-04-07T06:48:38.806816Z",
     "iopub.status.busy": "2023-04-07T06:48:38.806117Z",
     "iopub.status.idle": "2023-04-07T06:48:38.815391Z",
     "shell.execute_reply": "2023-04-07T06:48:38.813825Z"
    },
    "papermill": {
     "duration": 0.034233,
     "end_time": "2023-04-07T06:48:38.819527",
     "exception": false,
     "start_time": "2023-04-07T06:48:38.785294",
     "status": "completed"
    },
    "tags": []
   },
   "outputs": [],
   "source": [
    "y_pred = clf.predict(X_train)"
   ]
  },
  {
   "cell_type": "code",
   "execution_count": 18,
   "id": "9c738829",
   "metadata": {
    "execution": {
     "iopub.execute_input": "2023-04-07T06:48:38.860703Z",
     "iopub.status.busy": "2023-04-07T06:48:38.859990Z",
     "iopub.status.idle": "2023-04-07T06:48:38.884815Z",
     "shell.execute_reply": "2023-04-07T06:48:38.883211Z"
    },
    "papermill": {
     "duration": 0.050592,
     "end_time": "2023-04-07T06:48:38.889149",
     "exception": false,
     "start_time": "2023-04-07T06:48:38.838557",
     "status": "completed"
    },
    "tags": []
   },
   "outputs": [
    {
     "data": {
      "text/plain": [
       "0.39333333333333337"
      ]
     },
     "execution_count": 18,
     "metadata": {},
     "output_type": "execute_result"
    }
   ],
   "source": [
    "from sklearn.metrics import f1_score\n",
    "\n",
    "f1_score(y_train, y_pred)"
   ]
  },
  {
   "cell_type": "code",
   "execution_count": 19,
   "id": "072bf737",
   "metadata": {
    "execution": {
     "iopub.execute_input": "2023-04-07T06:48:38.930991Z",
     "iopub.status.busy": "2023-04-07T06:48:38.930296Z",
     "iopub.status.idle": "2023-04-07T06:48:39.229186Z",
     "shell.execute_reply": "2023-04-07T06:48:39.227801Z"
    },
    "papermill": {
     "duration": 0.322982,
     "end_time": "2023-04-07T06:48:39.231579",
     "exception": false,
     "start_time": "2023-04-07T06:48:38.908597",
     "status": "completed"
    },
    "tags": []
   },
   "outputs": [
    {
     "data": {
      "image/png": "[encoded data removed]",
      "text/plain": [
       "<Figure size 640x480 with 2 Axes>"
      ]
     },
     "metadata": {},
     "output_type": "display_data"
    }
   ],
   "source": [
    "from sklearn.metrics import confusion_matrix, ConfusionMatrixDisplay\n",
    "\n",
    "cm = confusion_matrix(y_train, y_pred, labels=clf.classes_)\n",
    "disp = ConfusionMatrixDisplay(confusion_matrix=cm, display_labels=clf.classes_)\n",
    "disp.plot()\n",
    "plt.show()"
   ]
  },
  {
   "cell_type": "code",
   "execution_count": 20,
   "id": "79061590",
   "metadata": {
    "execution": {
     "iopub.execute_input": "2023-04-07T06:48:39.249742Z",
     "iopub.status.busy": "2023-04-07T06:48:39.249040Z",
     "iopub.status.idle": "2023-04-07T06:48:39.285609Z",
     "shell.execute_reply": "2023-04-07T06:48:39.284373Z"
    },
    "papermill": {
     "duration": 0.048724,
     "end_time": "2023-04-07T06:48:39.288364",
     "exception": false,
     "start_time": "2023-04-07T06:48:39.239640",
     "status": "completed"
    },
    "tags": []
   },
   "outputs": [],
   "source": [
    "X_test = preprocessor.fit_transform(test_df)"
   ]
  },
  {
   "cell_type": "code",
   "execution_count": 21,
   "id": "9bb28bc2",
   "metadata": {
    "execution": {
     "iopub.execute_input": "2023-04-07T06:48:39.306102Z",
     "iopub.status.busy": "2023-04-07T06:48:39.305704Z",
     "iopub.status.idle": "2023-04-07T06:48:39.316380Z",
     "shell.execute_reply": "2023-04-07T06:48:39.314495Z"
    },
    "papermill": {
     "duration": 0.0257,
     "end_time": "2023-04-07T06:48:39.322126",
     "exception": false,
     "start_time": "2023-04-07T06:48:39.296426",
     "status": "completed"
    },
    "tags": []
   },
   "outputs": [
    {
     "data": {
      "text/plain": [
       "array([False, False, False, ..., False, False, False])"
      ]
     },
     "execution_count": 21,
     "metadata": {},
     "output_type": "execute_result"
    }
   ],
   "source": [
    "prediction = clf.predict(X_test)\n",
    "prediction"
   ]
  },
  {
   "cell_type": "code",
   "execution_count": 22,
   "id": "21c1e451",
   "metadata": {
    "execution": {
     "iopub.execute_input": "2023-04-07T06:48:39.366021Z",
     "iopub.status.busy": "2023-04-07T06:48:39.365304Z",
     "iopub.status.idle": "2023-04-07T06:48:39.423805Z",
     "shell.execute_reply": "2023-04-07T06:48:39.422137Z"
    },
    "papermill": {
     "duration": 0.085918,
     "end_time": "2023-04-07T06:48:39.428483",
     "exception": false,
     "start_time": "2023-04-07T06:48:39.342565",
     "status": "completed"
    },
    "tags": []
   },
   "outputs": [],
   "source": [
    "submission = pd.DataFrame(columns = ['id', 'Made_Purchase'])\n",
    "submission['id'] = [i for i in range(len(prediction))]\n",
    "submission['Made_Purchase'] = prediction\n",
    "\n",
    "submission.to_csv('submission.csv', index=False)"
   ]
  },
  {
   "cell_type": "code",
   "execution_count": 23,
   "id": "9e28cb6f",
   "metadata": {
    "execution": {
     "iopub.execute_input": "2023-04-07T06:48:39.447843Z",
     "iopub.status.busy": "2023-04-07T06:48:39.447223Z",
     "iopub.status.idle": "2023-04-07T06:48:39.456029Z",
     "shell.execute_reply": "2023-04-07T06:48:39.455162Z"
    },
    "papermill": {
     "duration": 0.020421,
     "end_time": "2023-04-07T06:48:39.458205",
     "exception": false,
     "start_time": "2023-04-07T06:48:39.437784",
     "status": "completed"
    },
    "tags": []
   },
   "outputs": [
    {
     "data": {
      "text/html": [
       "<div>\n",
       "<style scoped>\n",
       "    .dataframe tbody tr th:only-of-type {\n",
       "        vertical-align: middle;\n",
       "    }\n",
       "\n",
       "    .dataframe tbody tr th {\n",
       "        vertical-align: top;\n",
       "    }\n",
       "\n",
       "    .dataframe thead th {\n",
       "        text-align: right;\n",
       "    }\n",
       "</style>\n",
       "<table border=\"1\" class=\"dataframe\">\n",
       "  <thead>\n",
       "    <tr style=\"text-align: right;\">\n",
       "      <th></th>\n",
       "      <th>id</th>\n",
       "      <th>Made_Purchase</th>\n",
       "    </tr>\n",
       "  </thead>\n",
       "  <tbody>\n",
       "    <tr>\n",
       "      <th>0</th>\n",
       "      <td>0</td>\n",
       "      <td>False</td>\n",
       "    </tr>\n",
       "    <tr>\n",
       "      <th>1</th>\n",
       "      <td>1</td>\n",
       "      <td>False</td>\n",
       "    </tr>\n",
       "    <tr>\n",
       "      <th>2</th>\n",
       "      <td>2</td>\n",
       "      <td>False</td>\n",
       "    </tr>\n",
       "    <tr>\n",
       "      <th>3</th>\n",
       "      <td>3</td>\n",
       "      <td>False</td>\n",
       "    </tr>\n",
       "    <tr>\n",
       "      <th>4</th>\n",
       "      <td>4</td>\n",
       "      <td>False</td>\n",
       "    </tr>\n",
       "  </tbody>\n",
       "</table>\n",
       "</div>"
      ],
      "text/plain": [
       "   id  Made_Purchase\n",
       "0   0          False\n",
       "1   1          False\n",
       "2   2          False\n",
       "3   3          False\n",
       "4   4          False"
      ]
     },
     "execution_count": 23,
     "metadata": {},
     "output_type": "execute_result"
    }
   ],
   "source": [
    "submission.head()"
   ]
  }
 ],
 "metadata": {
  "kernelspec": {
   "display_name": "Python 3",
   "language": "python",
   "name": "python3"
  },
  "language_info": {
   "codemirror_mode": {
    "name": "ipython",
    "version": 3
   },
   "file_extension": ".py",
   "mimetype": "text/x-python",
   "name": "python",
   "nbconvert_exporter": "python",
   "pygments_lexer": "ipython3",
   "version": "3.7.12"
  },
  "papermill": {
   "default_parameters": {},
   "duration": 14.971533,
   "end_time": "2023-04-07T06:48:40.188857",
   "environment_variables": {},
   "exception": null,
   "input_path": "__notebook__.ipynb",
   "output_path": "__notebook__.ipynb",
   "parameters": {},
   "start_time": "2023-04-07T06:48:25.217324",
   "version": "2.3.4"
  }
 },
 "nbformat": 4,
 "nbformat_minor": 5
}
