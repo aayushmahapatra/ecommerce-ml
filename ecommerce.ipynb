{
 "cells": [
  {
   "cell_type": "code",
   "execution_count": 1,
   "id": "775bbf71",
   "metadata": {
    "execution": {
     "iopub.execute_input": "2023-04-07T06:56:56.547602Z",
     "iopub.status.busy": "2023-04-07T06:56:56.547128Z",
     "iopub.status.idle": "2023-04-07T06:56:56.561416Z",
     "shell.execute_reply": "2023-04-07T06:56:56.560392Z"
    },
    "papermill": {
     "duration": 0.024992,
     "end_time": "2023-04-07T06:56:56.564041",
     "exception": false,
     "start_time": "2023-04-07T06:56:56.539049",
     "status": "completed"
    },
    "tags": []
   },
   "outputs": [
    {
     "name": "stdout",
     "output_type": "stream",
     "text": [
      "/kaggle/input/e-commerce-shoppers-behaviour-understanding/test_data_v2.csv\n",
      "/kaggle/input/e-commerce-shoppers-behaviour-understanding/train_data_v2.csv\n",
      "/kaggle/input/e-commerce-shoppers-behaviour-understanding/sample.csv\n"
     ]
    }
   ],
   "source": [
    "# This Python 3 environment comes with many helpful analytics libraries installed\n",
    "# It is defined by the kaggle/python Docker image: https://github.com/kaggle/docker-python\n",
    "# For example, here's several helpful packages to load\n",
    "\n",
    "import numpy as np # linear algebra\n",
    "import pandas as pd # data processing, CSV file I/O (e.g. pd.read_csv)\n",
    "\n",
    "# Input data files are available in the read-only \"../input/\" directory\n",
    "# For example, running this (by clicking run or pressing Shift+Enter) will list all files under the input directory\n",
    "\n",
    "import os\n",
    "for dirname, _, filenames in os.walk('/kaggle/input'):\n",
    "    for filename in filenames:\n",
    "        print(os.path.join(dirname, filename))\n",
    "\n",
    "# You can write up to 20GB to the current directory (/kaggle/working/) that gets preserved as output when you create a version using \"Save & Run All\" \n",
    "# You can also write temporary files to /kaggle/temp/, but they won't be saved outside of the current session"
   ]
  },
  {
   "cell_type": "markdown",
   "id": "00fb90aa",
   "metadata": {
    "papermill": {
     "duration": 0.005418,
     "end_time": "2023-04-07T06:56:56.575372",
     "exception": false,
     "start_time": "2023-04-07T06:56:56.569954",
     "status": "completed"
    },
    "tags": []
   },
   "source": [
    "## Import libraries and dataset"
   ]
  },
  {
   "cell_type": "code",
   "execution_count": 2,
   "id": "35f49858",
   "metadata": {
    "execution": {
     "iopub.execute_input": "2023-04-07T06:56:56.588579Z",
     "iopub.status.busy": "2023-04-07T06:56:56.588128Z",
     "iopub.status.idle": "2023-04-07T06:56:58.134112Z",
     "shell.execute_reply": "2023-04-07T06:56:58.132570Z"
    },
    "papermill": {
     "duration": 1.556158,
     "end_time": "2023-04-07T06:56:58.137202",
     "exception": false,
     "start_time": "2023-04-07T06:56:56.581044",
     "status": "completed"
    },
    "tags": []
   },
   "outputs": [],
   "source": [
    "import matplotlib.pyplot as plt\n",
    "import seaborn as sns\n",
    "from sklearn.compose import ColumnTransformer\n",
    "from sklearn.pipeline import Pipeline, make_pipeline\n",
    "from sklearn.impute import SimpleImputer\n",
    "from sklearn.preprocessing import OneHotEncoder, FunctionTransformer\n",
    "from sklearn.svm import SVC\n",
    "from sklearn.model_selection import cross_val_score\n",
    "from sklearn.metrics import f1_score, confusion_matrix, ConfusionMatrixDisplay\n",
    "%matplotlib inline"
   ]
  },
  {
   "cell_type": "code",
   "execution_count": 3,
   "id": "16a6732a",
   "metadata": {
    "execution": {
     "iopub.execute_input": "2023-04-07T06:56:58.150565Z",
     "iopub.status.busy": "2023-04-07T06:56:58.150128Z",
     "iopub.status.idle": "2023-04-07T06:56:58.260550Z",
     "shell.execute_reply": "2023-04-07T06:56:58.259393Z"
    },
    "papermill": {
     "duration": 0.11945,
     "end_time": "2023-04-07T06:56:58.262439",
     "exception": false,
     "start_time": "2023-04-07T06:56:58.142989",
     "status": "completed"
    },
    "tags": []
   },
   "outputs": [
    {
     "data": {
      "text/html": [
       "<div>\n",
       "<style scoped>\n",
       "    .dataframe tbody tr th:only-of-type {\n",
       "        vertical-align: middle;\n",
       "    }\n",
       "\n",
       "    .dataframe tbody tr th {\n",
       "        vertical-align: top;\n",
       "    }\n",
       "\n",
       "    .dataframe thead th {\n",
       "        text-align: right;\n",
       "    }\n",
       "</style>\n",
       "<table border=\"1\" class=\"dataframe\">\n",
       "  <thead>\n",
       "    <tr style=\"text-align: right;\">\n",
       "      <th></th>\n",
       "      <th>HomePage</th>\n",
       "      <th>HomePage_Duration</th>\n",
       "      <th>LandingPage</th>\n",
       "      <th>LandingPage_Duration</th>\n",
       "      <th>ProductDescriptionPage</th>\n",
       "      <th>ProductDescriptionPage_Duration</th>\n",
       "      <th>GoogleMetric:Bounce Rates</th>\n",
       "      <th>GoogleMetric:Exit Rates</th>\n",
       "      <th>GoogleMetric:Page Values</th>\n",
       "      <th>SeasonalPurchase</th>\n",
       "      <th>...</th>\n",
       "      <th>SearchEngine</th>\n",
       "      <th>Zone</th>\n",
       "      <th>Type of Traffic</th>\n",
       "      <th>CustomerType</th>\n",
       "      <th>Gender</th>\n",
       "      <th>Cookies Setting</th>\n",
       "      <th>Education</th>\n",
       "      <th>Marital Status</th>\n",
       "      <th>WeekendPurchase</th>\n",
       "      <th>Made_Purchase</th>\n",
       "    </tr>\n",
       "  </thead>\n",
       "  <tbody>\n",
       "    <tr>\n",
       "      <th>0</th>\n",
       "      <td>0.0</td>\n",
       "      <td>0.0</td>\n",
       "      <td>0.0</td>\n",
       "      <td>0.0</td>\n",
       "      <td>1.0</td>\n",
       "      <td>0.000000</td>\n",
       "      <td>0.20</td>\n",
       "      <td>0.20</td>\n",
       "      <td>0.0</td>\n",
       "      <td>0.0</td>\n",
       "      <td>...</td>\n",
       "      <td>1.0</td>\n",
       "      <td>9.0</td>\n",
       "      <td>3.0</td>\n",
       "      <td>Returning_Visitor</td>\n",
       "      <td>Not Specified</td>\n",
       "      <td>Deny</td>\n",
       "      <td>Not Specified</td>\n",
       "      <td>Other</td>\n",
       "      <td>0.0</td>\n",
       "      <td>False</td>\n",
       "    </tr>\n",
       "    <tr>\n",
       "      <th>1</th>\n",
       "      <td>0.0</td>\n",
       "      <td>0.0</td>\n",
       "      <td>0.0</td>\n",
       "      <td>0.0</td>\n",
       "      <td>2.0</td>\n",
       "      <td>2.666667</td>\n",
       "      <td>0.05</td>\n",
       "      <td>0.14</td>\n",
       "      <td>0.0</td>\n",
       "      <td>0.0</td>\n",
       "      <td>...</td>\n",
       "      <td>2.0</td>\n",
       "      <td>2.0</td>\n",
       "      <td>4.0</td>\n",
       "      <td>Returning_Visitor</td>\n",
       "      <td>Female</td>\n",
       "      <td>Deny</td>\n",
       "      <td>Others</td>\n",
       "      <td>Married</td>\n",
       "      <td>0.0</td>\n",
       "      <td>False</td>\n",
       "    </tr>\n",
       "    <tr>\n",
       "      <th>2</th>\n",
       "      <td>0.0</td>\n",
       "      <td>0.0</td>\n",
       "      <td>0.0</td>\n",
       "      <td>0.0</td>\n",
       "      <td>10.0</td>\n",
       "      <td>627.500000</td>\n",
       "      <td>0.02</td>\n",
       "      <td>0.05</td>\n",
       "      <td>0.0</td>\n",
       "      <td>0.0</td>\n",
       "      <td>...</td>\n",
       "      <td>3.0</td>\n",
       "      <td>1.0</td>\n",
       "      <td>4.0</td>\n",
       "      <td>Returning_Visitor</td>\n",
       "      <td>Female</td>\n",
       "      <td>ALL</td>\n",
       "      <td>Others</td>\n",
       "      <td>Married</td>\n",
       "      <td>1.0</td>\n",
       "      <td>False</td>\n",
       "    </tr>\n",
       "    <tr>\n",
       "      <th>3</th>\n",
       "      <td>0.0</td>\n",
       "      <td>0.0</td>\n",
       "      <td>0.0</td>\n",
       "      <td>0.0</td>\n",
       "      <td>1.0</td>\n",
       "      <td>0.000000</td>\n",
       "      <td>0.20</td>\n",
       "      <td>0.20</td>\n",
       "      <td>0.0</td>\n",
       "      <td>0.4</td>\n",
       "      <td>...</td>\n",
       "      <td>4.0</td>\n",
       "      <td>3.0</td>\n",
       "      <td>3.0</td>\n",
       "      <td>Returning_Visitor</td>\n",
       "      <td>Male</td>\n",
       "      <td>ALL</td>\n",
       "      <td>Diploma</td>\n",
       "      <td>Single</td>\n",
       "      <td>0.0</td>\n",
       "      <td>False</td>\n",
       "    </tr>\n",
       "    <tr>\n",
       "      <th>4</th>\n",
       "      <td>1.0</td>\n",
       "      <td>0.0</td>\n",
       "      <td>0.0</td>\n",
       "      <td>0.0</td>\n",
       "      <td>0.0</td>\n",
       "      <td>0.000000</td>\n",
       "      <td>0.20</td>\n",
       "      <td>0.20</td>\n",
       "      <td>0.0</td>\n",
       "      <td>0.0</td>\n",
       "      <td>...</td>\n",
       "      <td>2.0</td>\n",
       "      <td>1.0</td>\n",
       "      <td>5.0</td>\n",
       "      <td>Returning_Visitor</td>\n",
       "      <td>Male</td>\n",
       "      <td>Deny</td>\n",
       "      <td>Diploma</td>\n",
       "      <td>Other</td>\n",
       "      <td>1.0</td>\n",
       "      <td>False</td>\n",
       "    </tr>\n",
       "  </tbody>\n",
       "</table>\n",
       "<p>5 rows × 22 columns</p>\n",
       "</div>"
      ],
      "text/plain": [
       "   HomePage  HomePage_Duration  LandingPage  LandingPage_Duration  \\\n",
       "0       0.0                0.0          0.0                   0.0   \n",
       "1       0.0                0.0          0.0                   0.0   \n",
       "2       0.0                0.0          0.0                   0.0   \n",
       "3       0.0                0.0          0.0                   0.0   \n",
       "4       1.0                0.0          0.0                   0.0   \n",
       "\n",
       "   ProductDescriptionPage  ProductDescriptionPage_Duration  \\\n",
       "0                     1.0                         0.000000   \n",
       "1                     2.0                         2.666667   \n",
       "2                    10.0                       627.500000   \n",
       "3                     1.0                         0.000000   \n",
       "4                     0.0                         0.000000   \n",
       "\n",
       "   GoogleMetric:Bounce Rates  GoogleMetric:Exit Rates  \\\n",
       "0                       0.20                     0.20   \n",
       "1                       0.05                     0.14   \n",
       "2                       0.02                     0.05   \n",
       "3                       0.20                     0.20   \n",
       "4                       0.20                     0.20   \n",
       "\n",
       "   GoogleMetric:Page Values  SeasonalPurchase  ... SearchEngine  Zone  \\\n",
       "0                       0.0               0.0  ...          1.0   9.0   \n",
       "1                       0.0               0.0  ...          2.0   2.0   \n",
       "2                       0.0               0.0  ...          3.0   1.0   \n",
       "3                       0.0               0.4  ...          4.0   3.0   \n",
       "4                       0.0               0.0  ...          2.0   1.0   \n",
       "\n",
       "   Type of Traffic       CustomerType         Gender Cookies Setting  \\\n",
       "0              3.0  Returning_Visitor  Not Specified            Deny   \n",
       "1              4.0  Returning_Visitor         Female            Deny   \n",
       "2              4.0  Returning_Visitor         Female             ALL   \n",
       "3              3.0  Returning_Visitor           Male             ALL   \n",
       "4              5.0  Returning_Visitor           Male            Deny   \n",
       "\n",
       "       Education Marital Status WeekendPurchase Made_Purchase  \n",
       "0  Not Specified          Other             0.0         False  \n",
       "1         Others        Married             0.0         False  \n",
       "2         Others        Married             1.0         False  \n",
       "3        Diploma         Single             0.0         False  \n",
       "4        Diploma          Other             1.0         False  \n",
       "\n",
       "[5 rows x 22 columns]"
      ]
     },
     "execution_count": 3,
     "metadata": {},
     "output_type": "execute_result"
    }
   ],
   "source": [
    "train_df = pd.read_csv('/kaggle/input/e-commerce-shoppers-behaviour-understanding/train_data_v2.csv')\n",
    "train_df.head()"
   ]
  },
  {
   "cell_type": "markdown",
   "id": "366d07ae",
   "metadata": {
    "papermill": {
     "duration": 0.006121,
     "end_time": "2023-04-07T06:56:58.274401",
     "exception": false,
     "start_time": "2023-04-07T06:56:58.268280",
     "status": "completed"
    },
    "tags": []
   },
   "source": [
    "## Data Visualization"
   ]
  },
  {
   "cell_type": "code",
   "execution_count": 4,
   "id": "8116d246",
   "metadata": {
    "execution": {
     "iopub.execute_input": "2023-04-07T06:56:58.288655Z",
     "iopub.status.busy": "2023-04-07T06:56:58.287987Z",
     "iopub.status.idle": "2023-04-07T06:56:58.497314Z",
     "shell.execute_reply": "2023-04-07T06:56:58.495661Z"
    },
    "papermill": {
     "duration": 0.220556,
     "end_time": "2023-04-07T06:56:58.501038",
     "exception": false,
     "start_time": "2023-04-07T06:56:58.280482",
     "status": "completed"
    },
    "tags": []
   },
   "outputs": [
    {
     "data": {
      "text/plain": [
       "Text(0, 0.5, 'Frequency')"
      ]
     },
     "execution_count": 4,
     "metadata": {},
     "output_type": "execute_result"
    },
    {
     "data": {
      "image/png": "[encoded data removed]",
      "text/plain": [
       "<Figure size 500x500 with 1 Axes>"
      ]
     },
     "metadata": {},
     "output_type": "display_data"
    }
   ],
   "source": [
    "dv = train_df['Made_Purchase'].value_counts().plot(kind='bar', figsize=(5,5))\n",
    "dv.set_xlabel(\"Made Purchase\")\n",
    "dv.set_ylabel(\"Frequency\")"
   ]
  },
  {
   "cell_type": "code",
   "execution_count": 5,
   "id": "ae22accf",
   "metadata": {
    "execution": {
     "iopub.execute_input": "2023-04-07T06:56:58.516791Z",
     "iopub.status.busy": "2023-04-07T06:56:58.515420Z",
     "iopub.status.idle": "2023-04-07T06:56:58.537666Z",
     "shell.execute_reply": "2023-04-07T06:56:58.536788Z"
    },
    "papermill": {
     "duration": 0.032438,
     "end_time": "2023-04-07T06:56:58.540410",
     "exception": false,
     "start_time": "2023-04-07T06:56:58.507972",
     "status": "completed"
    },
    "tags": []
   },
   "outputs": [
    {
     "name": "stdout",
     "output_type": "stream",
     "text": [
      "<class 'pandas.core.frame.DataFrame'>\n",
      "RangeIndex: 14731 entries, 0 to 14730\n",
      "Data columns (total 22 columns):\n",
      " #   Column                           Non-Null Count  Dtype  \n",
      "---  ------                           --------------  -----  \n",
      " 0   HomePage                         14578 non-null  float64\n",
      " 1   HomePage_Duration                14581 non-null  float64\n",
      " 2   LandingPage                      14578 non-null  float64\n",
      " 3   LandingPage_Duration             14596 non-null  float64\n",
      " 4   ProductDescriptionPage           14608 non-null  float64\n",
      " 5   ProductDescriptionPage_Duration  14564 non-null  float64\n",
      " 6   GoogleMetric:Bounce Rates        14580 non-null  float64\n",
      " 7   GoogleMetric:Exit Rates          14602 non-null  float64\n",
      " 8   GoogleMetric:Page Values         14599 non-null  float64\n",
      " 9   SeasonalPurchase                 14581 non-null  float64\n",
      " 10  Month_SeasonalPurchase           14587 non-null  object \n",
      " 11  OS                               14597 non-null  float64\n",
      " 12  SearchEngine                     14609 non-null  float64\n",
      " 13  Zone                             14614 non-null  float64\n",
      " 14  Type of Traffic                  14588 non-null  float64\n",
      " 15  CustomerType                     14587 non-null  object \n",
      " 16  Gender                           14586 non-null  object \n",
      " 17  Cookies Setting                  14587 non-null  object \n",
      " 18  Education                        14595 non-null  object \n",
      " 19  Marital Status                   14601 non-null  object \n",
      " 20  WeekendPurchase                  14610 non-null  float64\n",
      " 21  Made_Purchase                    14731 non-null  bool   \n",
      "dtypes: bool(1), float64(15), object(6)\n",
      "memory usage: 2.4+ MB\n"
     ]
    }
   ],
   "source": [
    "train_df.info()"
   ]
  },
  {
   "cell_type": "code",
   "execution_count": 6,
   "id": "97acfeaf",
   "metadata": {
    "execution": {
     "iopub.execute_input": "2023-04-07T06:56:58.555778Z",
     "iopub.status.busy": "2023-04-07T06:56:58.554790Z",
     "iopub.status.idle": "2023-04-07T06:56:59.026712Z",
     "shell.execute_reply": "2023-04-07T06:56:59.025798Z"
    },
    "papermill": {
     "duration": 0.481642,
     "end_time": "2023-04-07T06:56:59.028644",
     "exception": false,
     "start_time": "2023-04-07T06:56:58.547002",
     "status": "completed"
    },
    "tags": []
   },
   "outputs": [
    {
     "data": {
      "text/plain": [
       "<AxesSubplot:>"
      ]
     },
     "execution_count": 6,
     "metadata": {},
     "output_type": "execute_result"
    },
    {
     "data": {
      "image/png": "[encoded data removed]",
      "text/plain": [
       "<Figure size 640x480 with 2 Axes>"
      ]
     },
     "metadata": {},
     "output_type": "display_data"
    }
   ],
   "source": [
    "sns.heatmap(train_df.corr())"
   ]
  },
  {
   "cell_type": "markdown",
   "id": "85c36b36",
   "metadata": {
    "papermill": {
     "duration": 0.007345,
     "end_time": "2023-04-07T06:56:59.043454",
     "exception": false,
     "start_time": "2023-04-07T06:56:59.036109",
     "status": "completed"
    },
    "tags": []
   },
   "source": [
    "## Data Cleaning and Preprocessing"
   ]
  },
  {
   "cell_type": "code",
   "execution_count": 7,
   "id": "7a060df9",
   "metadata": {
    "execution": {
     "iopub.execute_input": "2023-04-07T06:56:59.061637Z",
     "iopub.status.busy": "2023-04-07T06:56:59.059892Z",
     "iopub.status.idle": "2023-04-07T06:56:59.086992Z",
     "shell.execute_reply": "2023-04-07T06:56:59.085813Z"
    },
    "papermill": {
     "duration": 0.038802,
     "end_time": "2023-04-07T06:56:59.089812",
     "exception": false,
     "start_time": "2023-04-07T06:56:59.051010",
     "status": "completed"
    },
    "tags": []
   },
   "outputs": [
    {
     "data": {
      "text/html": [
       "<div>\n",
       "<style scoped>\n",
       "    .dataframe tbody tr th:only-of-type {\n",
       "        vertical-align: middle;\n",
       "    }\n",
       "\n",
       "    .dataframe tbody tr th {\n",
       "        vertical-align: top;\n",
       "    }\n",
       "\n",
       "    .dataframe thead th {\n",
       "        text-align: right;\n",
       "    }\n",
       "</style>\n",
       "<table border=\"1\" class=\"dataframe\">\n",
       "  <thead>\n",
       "    <tr style=\"text-align: right;\">\n",
       "      <th></th>\n",
       "      <th>HomePage</th>\n",
       "      <th>HomePage_Duration</th>\n",
       "      <th>LandingPage</th>\n",
       "      <th>LandingPage_Duration</th>\n",
       "      <th>ProductDescriptionPage</th>\n",
       "      <th>ProductDescriptionPage_Duration</th>\n",
       "      <th>GoogleMetric:Page Values</th>\n",
       "      <th>Month_SeasonalPurchase</th>\n",
       "      <th>OS</th>\n",
       "      <th>SearchEngine</th>\n",
       "      <th>Zone</th>\n",
       "      <th>Type of Traffic</th>\n",
       "      <th>CustomerType</th>\n",
       "      <th>Gender</th>\n",
       "      <th>Cookies Setting</th>\n",
       "      <th>Education</th>\n",
       "      <th>Marital Status</th>\n",
       "      <th>Made_Purchase</th>\n",
       "    </tr>\n",
       "  </thead>\n",
       "  <tbody>\n",
       "    <tr>\n",
       "      <th>0</th>\n",
       "      <td>0.0</td>\n",
       "      <td>0.0</td>\n",
       "      <td>0.0</td>\n",
       "      <td>0.0</td>\n",
       "      <td>1.0</td>\n",
       "      <td>0.000000</td>\n",
       "      <td>0.0</td>\n",
       "      <td>Feb</td>\n",
       "      <td>4.0</td>\n",
       "      <td>1.0</td>\n",
       "      <td>9.0</td>\n",
       "      <td>3.0</td>\n",
       "      <td>Returning_Visitor</td>\n",
       "      <td>Not Specified</td>\n",
       "      <td>Deny</td>\n",
       "      <td>Not Specified</td>\n",
       "      <td>Other</td>\n",
       "      <td>False</td>\n",
       "    </tr>\n",
       "    <tr>\n",
       "      <th>1</th>\n",
       "      <td>0.0</td>\n",
       "      <td>0.0</td>\n",
       "      <td>0.0</td>\n",
       "      <td>0.0</td>\n",
       "      <td>2.0</td>\n",
       "      <td>2.666667</td>\n",
       "      <td>0.0</td>\n",
       "      <td>Feb</td>\n",
       "      <td>3.0</td>\n",
       "      <td>2.0</td>\n",
       "      <td>2.0</td>\n",
       "      <td>4.0</td>\n",
       "      <td>Returning_Visitor</td>\n",
       "      <td>Female</td>\n",
       "      <td>Deny</td>\n",
       "      <td>Others</td>\n",
       "      <td>Married</td>\n",
       "      <td>False</td>\n",
       "    </tr>\n",
       "    <tr>\n",
       "      <th>2</th>\n",
       "      <td>0.0</td>\n",
       "      <td>0.0</td>\n",
       "      <td>0.0</td>\n",
       "      <td>0.0</td>\n",
       "      <td>10.0</td>\n",
       "      <td>627.500000</td>\n",
       "      <td>0.0</td>\n",
       "      <td>Feb</td>\n",
       "      <td>3.0</td>\n",
       "      <td>3.0</td>\n",
       "      <td>1.0</td>\n",
       "      <td>4.0</td>\n",
       "      <td>Returning_Visitor</td>\n",
       "      <td>Female</td>\n",
       "      <td>ALL</td>\n",
       "      <td>Others</td>\n",
       "      <td>Married</td>\n",
       "      <td>False</td>\n",
       "    </tr>\n",
       "    <tr>\n",
       "      <th>3</th>\n",
       "      <td>0.0</td>\n",
       "      <td>0.0</td>\n",
       "      <td>0.0</td>\n",
       "      <td>0.0</td>\n",
       "      <td>1.0</td>\n",
       "      <td>0.000000</td>\n",
       "      <td>0.0</td>\n",
       "      <td>Feb</td>\n",
       "      <td>2.0</td>\n",
       "      <td>4.0</td>\n",
       "      <td>3.0</td>\n",
       "      <td>3.0</td>\n",
       "      <td>Returning_Visitor</td>\n",
       "      <td>Male</td>\n",
       "      <td>ALL</td>\n",
       "      <td>Diploma</td>\n",
       "      <td>Single</td>\n",
       "      <td>False</td>\n",
       "    </tr>\n",
       "    <tr>\n",
       "      <th>4</th>\n",
       "      <td>1.0</td>\n",
       "      <td>0.0</td>\n",
       "      <td>0.0</td>\n",
       "      <td>0.0</td>\n",
       "      <td>0.0</td>\n",
       "      <td>0.000000</td>\n",
       "      <td>0.0</td>\n",
       "      <td>Feb</td>\n",
       "      <td>1.0</td>\n",
       "      <td>2.0</td>\n",
       "      <td>1.0</td>\n",
       "      <td>5.0</td>\n",
       "      <td>Returning_Visitor</td>\n",
       "      <td>Male</td>\n",
       "      <td>Deny</td>\n",
       "      <td>Diploma</td>\n",
       "      <td>Other</td>\n",
       "      <td>False</td>\n",
       "    </tr>\n",
       "  </tbody>\n",
       "</table>\n",
       "</div>"
      ],
      "text/plain": [
       "   HomePage  HomePage_Duration  LandingPage  LandingPage_Duration  \\\n",
       "0       0.0                0.0          0.0                   0.0   \n",
       "1       0.0                0.0          0.0                   0.0   \n",
       "2       0.0                0.0          0.0                   0.0   \n",
       "3       0.0                0.0          0.0                   0.0   \n",
       "4       1.0                0.0          0.0                   0.0   \n",
       "\n",
       "   ProductDescriptionPage  ProductDescriptionPage_Duration  \\\n",
       "0                     1.0                         0.000000   \n",
       "1                     2.0                         2.666667   \n",
       "2                    10.0                       627.500000   \n",
       "3                     1.0                         0.000000   \n",
       "4                     0.0                         0.000000   \n",
       "\n",
       "   GoogleMetric:Page Values Month_SeasonalPurchase   OS  SearchEngine  Zone  \\\n",
       "0                       0.0                    Feb  4.0           1.0   9.0   \n",
       "1                       0.0                    Feb  3.0           2.0   2.0   \n",
       "2                       0.0                    Feb  3.0           3.0   1.0   \n",
       "3                       0.0                    Feb  2.0           4.0   3.0   \n",
       "4                       0.0                    Feb  1.0           2.0   1.0   \n",
       "\n",
       "   Type of Traffic       CustomerType         Gender Cookies Setting  \\\n",
       "0              3.0  Returning_Visitor  Not Specified            Deny   \n",
       "1              4.0  Returning_Visitor         Female            Deny   \n",
       "2              4.0  Returning_Visitor         Female             ALL   \n",
       "3              3.0  Returning_Visitor           Male             ALL   \n",
       "4              5.0  Returning_Visitor           Male            Deny   \n",
       "\n",
       "       Education Marital Status  Made_Purchase  \n",
       "0  Not Specified          Other          False  \n",
       "1         Others        Married          False  \n",
       "2         Others        Married          False  \n",
       "3        Diploma         Single          False  \n",
       "4        Diploma          Other          False  "
      ]
     },
     "execution_count": 7,
     "metadata": {},
     "output_type": "execute_result"
    }
   ],
   "source": [
    "# drop columns with low correlation\n",
    "train_df = train_df.drop([\"GoogleMetric:Bounce Rates\", \"GoogleMetric:Exit Rates\", \"SeasonalPurchase\", \"WeekendPurchase\"], axis=1)\n",
    "train_df.head()"
   ]
  },
  {
   "cell_type": "code",
   "execution_count": 8,
   "id": "99005fb3",
   "metadata": {
    "execution": {
     "iopub.execute_input": "2023-04-07T06:56:59.110760Z",
     "iopub.status.busy": "2023-04-07T06:56:59.108630Z",
     "iopub.status.idle": "2023-04-07T06:56:59.116073Z",
     "shell.execute_reply": "2023-04-07T06:56:59.114968Z"
    },
    "papermill": {
     "duration": 0.019311,
     "end_time": "2023-04-07T06:56:59.118079",
     "exception": false,
     "start_time": "2023-04-07T06:56:59.098768",
     "status": "completed"
    },
    "tags": []
   },
   "outputs": [],
   "source": [
    "# filter numerical and categorical variables\n",
    "num_vars = [\"HomePage\", \"HomePage_Duration\", \"LandingPage\", \"LandingPage_Duration\", \"ProductDescriptionPage\", \"ProductDescriptionPage_Duration\", \"GoogleMetric:Page Values\"]\n",
    "cat_vars = [\"Month_SeasonalPurchase\", \"CustomerType\", \"Gender\",\"Cookies Setting\", \"Education\",\"Marital Status\"]"
   ]
  },
  {
   "cell_type": "code",
   "execution_count": 9,
   "id": "69580a0a",
   "metadata": {
    "execution": {
     "iopub.execute_input": "2023-04-07T06:56:59.136861Z",
     "iopub.status.busy": "2023-04-07T06:56:59.135626Z",
     "iopub.status.idle": "2023-04-07T06:56:59.142747Z",
     "shell.execute_reply": "2023-04-07T06:56:59.141576Z"
    },
    "papermill": {
     "duration": 0.018977,
     "end_time": "2023-04-07T06:56:59.145112",
     "exception": false,
     "start_time": "2023-04-07T06:56:59.126135",
     "status": "completed"
    },
    "tags": []
   },
   "outputs": [],
   "source": [
    "numeric_transformer = Pipeline(\n",
    "    steps=[(\"imputer\", SimpleImputer(missing_values=np.nan, strategy=\"mean\")),(\"scaler\", FunctionTransformer(np.log1p))]\n",
    ")\n",
    "\n",
    "categorical_transformer = Pipeline(\n",
    "    steps=[(\"imputer\", SimpleImputer(strategy=\"most_frequent\")), (\"encoder\", OneHotEncoder(handle_unknown=\"ignore\", sparse=False))]\n",
    ")\n",
    "\n",
    "preprocessor = ColumnTransformer(\n",
    "    transformers=[\n",
    "        (\"num\", numeric_transformer, num_vars),\n",
    "        (\"cat\", categorical_transformer, cat_vars),\n",
    "    ]\n",
    ")"
   ]
  },
  {
   "cell_type": "markdown",
   "id": "4b6505db",
   "metadata": {
    "papermill": {
     "duration": 0.007309,
     "end_time": "2023-04-07T06:56:59.160089",
     "exception": false,
     "start_time": "2023-04-07T06:56:59.152780",
     "status": "completed"
    },
    "tags": []
   },
   "source": [
    "## Model Implementation"
   ]
  },
  {
   "cell_type": "code",
   "execution_count": 10,
   "id": "155a60d6",
   "metadata": {
    "execution": {
     "iopub.execute_input": "2023-04-07T06:56:59.177453Z",
     "iopub.status.busy": "2023-04-07T06:56:59.176822Z",
     "iopub.status.idle": "2023-04-07T06:56:59.184079Z",
     "shell.execute_reply": "2023-04-07T06:56:59.182920Z"
    },
    "papermill": {
     "duration": 0.019084,
     "end_time": "2023-04-07T06:56:59.186759",
     "exception": false,
     "start_time": "2023-04-07T06:56:59.167675",
     "status": "completed"
    },
    "tags": []
   },
   "outputs": [],
   "source": [
    "# split the dataframes into features and labels\n",
    "X_train = train_df.drop(columns=['Made_Purchase'])\n",
    "y_train = train_df['Made_Purchase']"
   ]
  },
  {
   "cell_type": "markdown",
   "id": "effd31bf",
   "metadata": {
    "papermill": {
     "duration": 0.007233,
     "end_time": "2023-04-07T06:56:59.201691",
     "exception": false,
     "start_time": "2023-04-07T06:56:59.194458",
     "status": "completed"
    },
    "tags": []
   },
   "source": [
    "### Support Vector Classification"
   ]
  },
  {
   "cell_type": "code",
   "execution_count": 11,
   "id": "79d7b58f",
   "metadata": {
    "execution": {
     "iopub.execute_input": "2023-04-07T06:56:59.219550Z",
     "iopub.status.busy": "2023-04-07T06:56:59.218327Z",
     "iopub.status.idle": "2023-04-07T06:57:19.841846Z",
     "shell.execute_reply": "2023-04-07T06:57:19.840313Z"
    },
    "papermill": {
     "duration": 20.635374,
     "end_time": "2023-04-07T06:57:19.844731",
     "exception": false,
     "start_time": "2023-04-07T06:56:59.209357",
     "status": "completed"
    },
    "tags": []
   },
   "outputs": [
    {
     "data": {
      "text/plain": [
       "0.6704908017106782"
      ]
     },
     "execution_count": 11,
     "metadata": {},
     "output_type": "execute_result"
    }
   ],
   "source": [
    "X_train = preprocessor.fit_transform(X_train)\n",
    "clf = SVC(C=1.0, kernel=\"rbf\", gamma=\"auto\")\n",
    "clf.fit(X_train, y_train)\n",
    "clf.score(X_train, y_train)"
   ]
  },
  {
   "cell_type": "code",
   "execution_count": 12,
   "id": "af58415e",
   "metadata": {
    "execution": {
     "iopub.execute_input": "2023-04-07T06:57:19.863281Z",
     "iopub.status.busy": "2023-04-07T06:57:19.862829Z",
     "iopub.status.idle": "2023-04-07T06:57:59.933818Z",
     "shell.execute_reply": "2023-04-07T06:57:59.932257Z"
    },
    "papermill": {
     "duration": 40.091978,
     "end_time": "2023-04-07T06:57:59.945070",
     "exception": false,
     "start_time": "2023-04-07T06:57:19.853092",
     "status": "completed"
    },
    "tags": []
   },
   "outputs": [
    {
     "data": {
      "text/plain": [
       "0.5015401074101385"
      ]
     },
     "execution_count": 12,
     "metadata": {},
     "output_type": "execute_result"
    }
   ],
   "source": [
    "cvs = cross_val_score(clf, X_train, y_train)\n",
    "cvs.mean()"
   ]
  },
  {
   "cell_type": "markdown",
   "id": "6958f4e8",
   "metadata": {
    "papermill": {
     "duration": 0.007345,
     "end_time": "2023-04-07T06:57:59.960031",
     "exception": false,
     "start_time": "2023-04-07T06:57:59.952686",
     "status": "completed"
    },
    "tags": []
   },
   "source": [
    "## Prediction and Submission"
   ]
  },
  {
   "cell_type": "code",
   "execution_count": 13,
   "id": "b41ee221",
   "metadata": {
    "execution": {
     "iopub.execute_input": "2023-04-07T06:57:59.977306Z",
     "iopub.status.busy": "2023-04-07T06:57:59.976915Z",
     "iopub.status.idle": "2023-04-07T06:58:00.039932Z",
     "shell.execute_reply": "2023-04-07T06:58:00.038659Z"
    },
    "papermill": {
     "duration": 0.075264,
     "end_time": "2023-04-07T06:58:00.042977",
     "exception": false,
     "start_time": "2023-04-07T06:57:59.967713",
     "status": "completed"
    },
    "tags": []
   },
   "outputs": [
    {
     "data": {
      "text/html": [
       "<div>\n",
       "<style scoped>\n",
       "    .dataframe tbody tr th:only-of-type {\n",
       "        vertical-align: middle;\n",
       "    }\n",
       "\n",
       "    .dataframe tbody tr th {\n",
       "        vertical-align: top;\n",
       "    }\n",
       "\n",
       "    .dataframe thead th {\n",
       "        text-align: right;\n",
       "    }\n",
       "</style>\n",
       "<table border=\"1\" class=\"dataframe\">\n",
       "  <thead>\n",
       "    <tr style=\"text-align: right;\">\n",
       "      <th></th>\n",
       "      <th>HomePage</th>\n",
       "      <th>HomePage_Duration</th>\n",
       "      <th>LandingPage</th>\n",
       "      <th>LandingPage_Duration</th>\n",
       "      <th>ProductDescriptionPage</th>\n",
       "      <th>ProductDescriptionPage_Duration</th>\n",
       "      <th>GoogleMetric:Bounce Rates</th>\n",
       "      <th>GoogleMetric:Exit Rates</th>\n",
       "      <th>GoogleMetric:Page Values</th>\n",
       "      <th>SeasonalPurchase</th>\n",
       "      <th>...</th>\n",
       "      <th>OS</th>\n",
       "      <th>SearchEngine</th>\n",
       "      <th>Zone</th>\n",
       "      <th>Type of Traffic</th>\n",
       "      <th>CustomerType</th>\n",
       "      <th>Gender</th>\n",
       "      <th>Cookies Setting</th>\n",
       "      <th>Education</th>\n",
       "      <th>Marital Status</th>\n",
       "      <th>WeekendPurchase</th>\n",
       "    </tr>\n",
       "  </thead>\n",
       "  <tbody>\n",
       "    <tr>\n",
       "      <th>0</th>\n",
       "      <td>0.0</td>\n",
       "      <td>0.0</td>\n",
       "      <td>0.0</td>\n",
       "      <td>0.0</td>\n",
       "      <td>1.0</td>\n",
       "      <td>0.000000</td>\n",
       "      <td>0.200000</td>\n",
       "      <td>0.200000</td>\n",
       "      <td>0.0</td>\n",
       "      <td>0.0</td>\n",
       "      <td>...</td>\n",
       "      <td>1.0</td>\n",
       "      <td>1.0</td>\n",
       "      <td>1.0</td>\n",
       "      <td>1.0</td>\n",
       "      <td>Returning_Visitor</td>\n",
       "      <td>Not Specified</td>\n",
       "      <td>Deny</td>\n",
       "      <td>Not Specified</td>\n",
       "      <td>Single</td>\n",
       "      <td>0.0</td>\n",
       "    </tr>\n",
       "    <tr>\n",
       "      <th>1</th>\n",
       "      <td>0.0</td>\n",
       "      <td>0.0</td>\n",
       "      <td>0.0</td>\n",
       "      <td>0.0</td>\n",
       "      <td>2.0</td>\n",
       "      <td>64.000000</td>\n",
       "      <td>0.000000</td>\n",
       "      <td>0.100000</td>\n",
       "      <td>0.0</td>\n",
       "      <td>0.0</td>\n",
       "      <td>...</td>\n",
       "      <td>2.0</td>\n",
       "      <td>2.0</td>\n",
       "      <td>1.0</td>\n",
       "      <td>2.0</td>\n",
       "      <td>Returning_Visitor</td>\n",
       "      <td>Not Specified</td>\n",
       "      <td>ALL</td>\n",
       "      <td>Graduate</td>\n",
       "      <td>Married</td>\n",
       "      <td>0.0</td>\n",
       "    </tr>\n",
       "    <tr>\n",
       "      <th>2</th>\n",
       "      <td>0.0</td>\n",
       "      <td>0.0</td>\n",
       "      <td>0.0</td>\n",
       "      <td>0.0</td>\n",
       "      <td>19.0</td>\n",
       "      <td>154.216667</td>\n",
       "      <td>0.015789</td>\n",
       "      <td>0.024561</td>\n",
       "      <td>0.0</td>\n",
       "      <td>0.0</td>\n",
       "      <td>...</td>\n",
       "      <td>2.0</td>\n",
       "      <td>2.0</td>\n",
       "      <td>1.0</td>\n",
       "      <td>3.0</td>\n",
       "      <td>Returning_Visitor</td>\n",
       "      <td>Female</td>\n",
       "      <td>Required</td>\n",
       "      <td>Diploma</td>\n",
       "      <td>Other</td>\n",
       "      <td>0.0</td>\n",
       "    </tr>\n",
       "    <tr>\n",
       "      <th>3</th>\n",
       "      <td>0.0</td>\n",
       "      <td>0.0</td>\n",
       "      <td>0.0</td>\n",
       "      <td>0.0</td>\n",
       "      <td>2.0</td>\n",
       "      <td>37.000000</td>\n",
       "      <td>0.000000</td>\n",
       "      <td>0.100000</td>\n",
       "      <td>0.0</td>\n",
       "      <td>0.8</td>\n",
       "      <td>...</td>\n",
       "      <td>2.0</td>\n",
       "      <td>2.0</td>\n",
       "      <td>2.0</td>\n",
       "      <td>3.0</td>\n",
       "      <td>Returning_Visitor</td>\n",
       "      <td>Not Specified</td>\n",
       "      <td>Required</td>\n",
       "      <td>Graduate</td>\n",
       "      <td>Other</td>\n",
       "      <td>0.0</td>\n",
       "    </tr>\n",
       "    <tr>\n",
       "      <th>4</th>\n",
       "      <td>0.0</td>\n",
       "      <td>0.0</td>\n",
       "      <td>0.0</td>\n",
       "      <td>0.0</td>\n",
       "      <td>16.0</td>\n",
       "      <td>407.750000</td>\n",
       "      <td>0.018750</td>\n",
       "      <td>0.025833</td>\n",
       "      <td>0.0</td>\n",
       "      <td>0.4</td>\n",
       "      <td>...</td>\n",
       "      <td>1.0</td>\n",
       "      <td>1.0</td>\n",
       "      <td>4.0</td>\n",
       "      <td>3.0</td>\n",
       "      <td>Returning_Visitor</td>\n",
       "      <td>Female</td>\n",
       "      <td>Deny</td>\n",
       "      <td>Others</td>\n",
       "      <td>Other</td>\n",
       "      <td>0.0</td>\n",
       "    </tr>\n",
       "  </tbody>\n",
       "</table>\n",
       "<p>5 rows × 21 columns</p>\n",
       "</div>"
      ],
      "text/plain": [
       "   HomePage  HomePage_Duration  LandingPage  LandingPage_Duration  \\\n",
       "0       0.0                0.0          0.0                   0.0   \n",
       "1       0.0                0.0          0.0                   0.0   \n",
       "2       0.0                0.0          0.0                   0.0   \n",
       "3       0.0                0.0          0.0                   0.0   \n",
       "4       0.0                0.0          0.0                   0.0   \n",
       "\n",
       "   ProductDescriptionPage  ProductDescriptionPage_Duration  \\\n",
       "0                     1.0                         0.000000   \n",
       "1                     2.0                        64.000000   \n",
       "2                    19.0                       154.216667   \n",
       "3                     2.0                        37.000000   \n",
       "4                    16.0                       407.750000   \n",
       "\n",
       "   GoogleMetric:Bounce Rates  GoogleMetric:Exit Rates  \\\n",
       "0                   0.200000                 0.200000   \n",
       "1                   0.000000                 0.100000   \n",
       "2                   0.015789                 0.024561   \n",
       "3                   0.000000                 0.100000   \n",
       "4                   0.018750                 0.025833   \n",
       "\n",
       "   GoogleMetric:Page Values  SeasonalPurchase  ...   OS  SearchEngine  Zone  \\\n",
       "0                       0.0               0.0  ...  1.0           1.0   1.0   \n",
       "1                       0.0               0.0  ...  2.0           2.0   1.0   \n",
       "2                       0.0               0.0  ...  2.0           2.0   1.0   \n",
       "3                       0.0               0.8  ...  2.0           2.0   2.0   \n",
       "4                       0.0               0.4  ...  1.0           1.0   4.0   \n",
       "\n",
       "   Type of Traffic       CustomerType         Gender Cookies Setting  \\\n",
       "0              1.0  Returning_Visitor  Not Specified            Deny   \n",
       "1              2.0  Returning_Visitor  Not Specified             ALL   \n",
       "2              3.0  Returning_Visitor         Female        Required   \n",
       "3              3.0  Returning_Visitor  Not Specified        Required   \n",
       "4              3.0  Returning_Visitor         Female            Deny   \n",
       "\n",
       "       Education Marital Status WeekendPurchase  \n",
       "0  Not Specified         Single             0.0  \n",
       "1       Graduate        Married             0.0  \n",
       "2        Diploma          Other             0.0  \n",
       "3       Graduate          Other             0.0  \n",
       "4         Others          Other             0.0  \n",
       "\n",
       "[5 rows x 21 columns]"
      ]
     },
     "execution_count": 13,
     "metadata": {},
     "output_type": "execute_result"
    }
   ],
   "source": [
    "test_df = pd.read_csv('/kaggle/input/e-commerce-shoppers-behaviour-understanding/test_data_v2.csv')\n",
    "test_df.head()"
   ]
  },
  {
   "cell_type": "code",
   "execution_count": 14,
   "id": "9a7aadab",
   "metadata": {
    "execution": {
     "iopub.execute_input": "2023-04-07T06:58:00.061978Z",
     "iopub.status.busy": "2023-04-07T06:58:00.061547Z",
     "iopub.status.idle": "2023-04-07T06:58:09.982264Z",
     "shell.execute_reply": "2023-04-07T06:58:09.980269Z"
    },
    "papermill": {
     "duration": 9.932773,
     "end_time": "2023-04-07T06:58:09.984447",
     "exception": false,
     "start_time": "2023-04-07T06:58:00.051674",
     "status": "completed"
    },
    "tags": []
   },
   "outputs": [
    {
     "data": {
      "text/plain": [
       "0.406891495601173"
      ]
     },
     "execution_count": 14,
     "metadata": {},
     "output_type": "execute_result"
    }
   ],
   "source": [
    "y_pred = clf.predict(X_train)\n",
    "f1_score(y_train, y_pred)"
   ]
  },
  {
   "cell_type": "code",
   "execution_count": 15,
   "id": "270ecbba",
   "metadata": {
    "execution": {
     "iopub.execute_input": "2023-04-07T06:58:10.003889Z",
     "iopub.status.busy": "2023-04-07T06:58:10.003349Z",
     "iopub.status.idle": "2023-04-07T06:58:10.197513Z",
     "shell.execute_reply": "2023-04-07T06:58:10.195623Z"
    },
    "papermill": {
     "duration": 0.207204,
     "end_time": "2023-04-07T06:58:10.200470",
     "exception": false,
     "start_time": "2023-04-07T06:58:09.993266",
     "status": "completed"
    },
    "tags": []
   },
   "outputs": [
    {
     "data": {
      "image/png": "[encoded data removed]",
      "text/plain": [
       "<Figure size 640x480 with 2 Axes>"
      ]
     },
     "metadata": {},
     "output_type": "display_data"
    }
   ],
   "source": [
    "cm = confusion_matrix(y_train, y_pred, labels=clf.classes_)\n",
    "disp = ConfusionMatrixDisplay(confusion_matrix=cm, display_labels=clf.classes_)\n",
    "disp.plot()\n",
    "plt.show()"
   ]
  },
  {
   "cell_type": "code",
   "execution_count": 16,
   "id": "134c3821",
   "metadata": {
    "execution": {
     "iopub.execute_input": "2023-04-07T06:58:10.220200Z",
     "iopub.status.busy": "2023-04-07T06:58:10.219753Z",
     "iopub.status.idle": "2023-04-07T06:58:14.689290Z",
     "shell.execute_reply": "2023-04-07T06:58:14.687233Z"
    },
    "papermill": {
     "duration": 4.482485,
     "end_time": "2023-04-07T06:58:14.691959",
     "exception": false,
     "start_time": "2023-04-07T06:58:10.209474",
     "status": "completed"
    },
    "tags": []
   },
   "outputs": [],
   "source": [
    "X_test = preprocessor.fit_transform(test_df)\n",
    "prediction = clf.predict(X_test)"
   ]
  },
  {
   "cell_type": "code",
   "execution_count": 17,
   "id": "3281133a",
   "metadata": {
    "execution": {
     "iopub.execute_input": "2023-04-07T06:58:14.712039Z",
     "iopub.status.busy": "2023-04-07T06:58:14.711681Z",
     "iopub.status.idle": "2023-04-07T06:58:14.732300Z",
     "shell.execute_reply": "2023-04-07T06:58:14.730633Z"
    },
    "papermill": {
     "duration": 0.03378,
     "end_time": "2023-04-07T06:58:14.735009",
     "exception": false,
     "start_time": "2023-04-07T06:58:14.701229",
     "status": "completed"
    },
    "tags": []
   },
   "outputs": [
    {
     "data": {
      "text/html": [
       "<div>\n",
       "<style scoped>\n",
       "    .dataframe tbody tr th:only-of-type {\n",
       "        vertical-align: middle;\n",
       "    }\n",
       "\n",
       "    .dataframe tbody tr th {\n",
       "        vertical-align: top;\n",
       "    }\n",
       "\n",
       "    .dataframe thead th {\n",
       "        text-align: right;\n",
       "    }\n",
       "</style>\n",
       "<table border=\"1\" class=\"dataframe\">\n",
       "  <thead>\n",
       "    <tr style=\"text-align: right;\">\n",
       "      <th></th>\n",
       "      <th>id</th>\n",
       "      <th>Made_Purchase</th>\n",
       "    </tr>\n",
       "  </thead>\n",
       "  <tbody>\n",
       "    <tr>\n",
       "      <th>0</th>\n",
       "      <td>0</td>\n",
       "      <td>False</td>\n",
       "    </tr>\n",
       "    <tr>\n",
       "      <th>1</th>\n",
       "      <td>1</td>\n",
       "      <td>False</td>\n",
       "    </tr>\n",
       "    <tr>\n",
       "      <th>2</th>\n",
       "      <td>2</td>\n",
       "      <td>False</td>\n",
       "    </tr>\n",
       "    <tr>\n",
       "      <th>3</th>\n",
       "      <td>3</td>\n",
       "      <td>False</td>\n",
       "    </tr>\n",
       "    <tr>\n",
       "      <th>4</th>\n",
       "      <td>4</td>\n",
       "      <td>False</td>\n",
       "    </tr>\n",
       "  </tbody>\n",
       "</table>\n",
       "</div>"
      ],
      "text/plain": [
       "   id  Made_Purchase\n",
       "0   0          False\n",
       "1   1          False\n",
       "2   2          False\n",
       "3   3          False\n",
       "4   4          False"
      ]
     },
     "execution_count": 17,
     "metadata": {},
     "output_type": "execute_result"
    }
   ],
   "source": [
    "submission = pd.DataFrame(columns = ['id', 'Made_Purchase'])\n",
    "submission['id'] = [i for i in range(len(prediction))]\n",
    "submission['Made_Purchase'] = prediction\n",
    "submission.head()"
   ]
  },
  {
   "cell_type": "code",
   "execution_count": 18,
   "id": "7ccca0db",
   "metadata": {
    "execution": {
     "iopub.execute_input": "2023-04-07T06:58:14.754580Z",
     "iopub.status.busy": "2023-04-07T06:58:14.754213Z",
     "iopub.status.idle": "2023-04-07T06:58:14.768543Z",
     "shell.execute_reply": "2023-04-07T06:58:14.767744Z"
    },
    "papermill": {
     "duration": 0.02678,
     "end_time": "2023-04-07T06:58:14.770837",
     "exception": false,
     "start_time": "2023-04-07T06:58:14.744057",
     "status": "completed"
    },
    "tags": []
   },
   "outputs": [],
   "source": [
    "submission.to_csv('submission.csv', index=False)"
   ]
  }
 ],
 "metadata": {
  "kernelspec": {
   "display_name": "Python 3",
   "language": "python",
   "name": "python3"
  },
  "language_info": {
   "codemirror_mode": {
    "name": "ipython",
    "version": 3
   },
   "file_extension": ".py",
   "mimetype": "text/x-python",
   "name": "python",
   "nbconvert_exporter": "python",
   "pygments_lexer": "ipython3",
   "version": "3.7.12"
  },
  "papermill": {
   "default_parameters": {},
   "duration": 88.991219,
   "end_time": "2023-04-07T06:58:15.701829",
   "environment_variables": {},
   "exception": null,
   "input_path": "__notebook__.ipynb",
   "output_path": "__notebook__.ipynb",
   "parameters": {},
   "start_time": "2023-04-07T06:56:46.710610",
   "version": "2.3.4"
  }
 },
 "nbformat": 4,
 "nbformat_minor": 5
}
